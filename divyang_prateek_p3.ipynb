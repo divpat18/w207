{
 "cells": [
  {
   "cell_type": "markdown",
   "metadata": {},
   "source": [
    "# Project 3: Poisonous mushrooms"
   ]
  },
  {
   "cell_type": "markdown",
   "metadata": {},
   "source": [
    "In this project, you'll investigate properties of mushrooms. This classic dataset contains over 8000 observations, where each mushroom is described by a variety of features like color, odor, etc., and the target variable is an indicator for whether the mushroom is poisonous. Since all the observations are categorical, I've binarized the feature space. Look at the feature_names below to see all 126 binary names.\n",
    "\n",
    "You'll start by running PCA to reduce the dimensionality from 126 down to 2 so that you can easily visualize the data. In general, PCA is very useful for visualization (though sklearn.manifold.tsne is known to produce better visualizations). Recall that PCA is a linear transformation. The 1st projected dimension is the linear combination of all 126 original features that captures as much of the variance in the data as possible. The 2nd projected dimension is the linear combination of all 126 original features that captures as much of the remaining variance as possible. The idea of dense low dimensional representations is crucial to machine learning!\n",
    "\n",
    "Once you've projected the data to 2 dimensions, you'll experiment with clustering using KMeans and density estimation with Gaussian Mixture Models. Finally, you'll train a classifier by fitting a GMM for the positive class and a GMM for the negative class, and perform inference by comparing the probabilities output by each model.\n",
    "\n",
    "As always, you're welcome to work on the project in groups and discuss ideas on the course wall, but please prepare your own write-up and write your own code."
   ]
  },
  {
   "cell_type": "code",
   "execution_count": 2,
   "metadata": {
    "collapsed": false
   },
   "outputs": [],
   "source": [
    "%matplotlib inline\n",
    "\n",
    "import numpy as np\n",
    "import matplotlib.pyplot as plt\n",
    "from sklearn import metrics\n",
    "from sklearn.decomposition import PCA\n",
    "from sklearn.cluster import KMeans\n",
    "from sklearn.mixture import GMM\n",
    "from matplotlib.colors import LogNorm"
   ]
  },
  {
   "cell_type": "markdown",
   "metadata": {},
   "source": [
    "Load feature names."
   ]
  },
  {
   "cell_type": "code",
   "execution_count": 3,
   "metadata": {
    "collapsed": false
   },
   "outputs": [
    {
     "name": "stdout",
     "output_type": "stream",
     "text": [
      "Loaded feature names: 126\n",
      "['cap-shape=bell', 'cap-shape=conical', 'cap-shape=convex', 'cap-shape=flat', 'cap-shape=knobbed', 'cap-shape=sunken', 'cap-surface=fibrous', 'cap-surface=grooves', 'cap-surface=scaly', 'cap-surface=smooth', 'cap-color=brown', 'cap-color=buff', 'cap-color=cinnamon', 'cap-color=gray', 'cap-color=green', 'cap-color=pink', 'cap-color=purple', 'cap-color=red', 'cap-color=white', 'cap-color=yellow', 'bruises?=bruises', 'bruises?=no', 'odor=almond', 'odor=anise', 'odor=creosote', 'odor=fishy', 'odor=foul', 'odor=musty', 'odor=none', 'odor=pungent', 'odor=spicy', 'gill-attachment=attached', 'gill-attachment=descending', 'gill-attachment=free', 'gill-attachment=notched', 'gill-spacing=close', 'gill-spacing=crowded', 'gill-spacing=distant', 'gill-size=broad', 'gill-size=narrow', 'gill-color=black', 'gill-color=brown', 'gill-color=buff', 'gill-color=chocolate', 'gill-color=gray', 'gill-color=green', 'gill-color=orange', 'gill-color=pink', 'gill-color=purple', 'gill-color=red', 'gill-color=white', 'gill-color=yellow', 'stalk-shape=enlarging', 'stalk-shape=tapering', 'stalk-root=bulbous', 'stalk-root=club', 'stalk-root=cup', 'stalk-root=equal', 'stalk-root=rhizomorphs', 'stalk-root=rooted', 'stalk-root=missing', 'stalk-surface-above-ring=fibrous', 'stalk-surface-above-ring=scaly', 'stalk-surface-above-ring=silky', 'stalk-surface-above-ring=smooth', 'stalk-surface-below-ring=fibrous', 'stalk-surface-below-ring=scaly', 'stalk-surface-below-ring=silky', 'stalk-surface-below-ring=smooth', 'stalk-color-above-ring=brown', 'stalk-color-above-ring=buff', 'stalk-color-above-ring=cinnamon', 'stalk-color-above-ring=gray', 'stalk-color-above-ring=orange', 'stalk-color-above-ring=pink', 'stalk-color-above-ring=red', 'stalk-color-above-ring=white', 'stalk-color-above-ring=yellow', 'stalk-color-below-ring=brown', 'stalk-color-below-ring=buff', 'stalk-color-below-ring=cinnamon', 'stalk-color-below-ring=gray', 'stalk-color-below-ring=orange', 'stalk-color-below-ring=pink', 'stalk-color-below-ring=red', 'stalk-color-below-ring=white', 'stalk-color-below-ring=yellow', 'veil-type=partial', 'veil-type=universal', 'veil-color=brown', 'veil-color=orange', 'veil-color=white', 'veil-color=yellow', 'ring-number=none', 'ring-number=one', 'ring-number=two', 'ring-type=cobwebby', 'ring-type=evanescent', 'ring-type=flaring', 'ring-type=large', 'ring-type=none', 'ring-type=pendant', 'ring-type=sheathing', 'ring-type=zone', 'spore-print-color=black', 'spore-print-color=brown', 'spore-print-color=buff', 'spore-print-color=chocolate', 'spore-print-color=green', 'spore-print-color=orange', 'spore-print-color=purple', 'spore-print-color=white', 'spore-print-color=yellow', 'population=abundant', 'population=clustered', 'population=numerous', 'population=scattered', 'population=several', 'population=solitary', 'habitat=grasses', 'habitat=leaves', 'habitat=meadows', 'habitat=paths', 'habitat=urban', 'habitat=waste', 'habitat=woods']\n"
     ]
    }
   ],
   "source": [
    "feature_names = []\n",
    "with open('mushroom.map') as fmap:\n",
    "    for line in fmap:\n",
    "        [index, name, junk] = line.split()\n",
    "        feature_names.append(name)\n",
    "\n",
    "print 'Loaded feature names:', len(feature_names)\n",
    "print feature_names"
   ]
  },
  {
   "cell_type": "markdown",
   "metadata": {},
   "source": [
    "Load data. The data is sparse in the input file, but there aren't too many features, so we'll use a dense representation, which is supported by all sklearn objects."
   ]
  },
  {
   "cell_type": "code",
   "execution_count": 4,
   "metadata": {
    "collapsed": false
   },
   "outputs": [
    {
     "name": "stdout",
     "output_type": "stream",
     "text": [
      "(7000, 126) (1124, 126)\n"
     ]
    }
   ],
   "source": [
    "X, Y = [], []\n",
    "\n",
    "with open('mushroom.data') as fdata:\n",
    "    for line in fdata:\n",
    "        items = line.split()\n",
    "        Y.append(int(items.pop(0)))\n",
    "        x = np.zeros(len(feature_names))\n",
    "        for item in items:\n",
    "            feature = int(item.split(':')[0])\n",
    "            x[feature] = 1\n",
    "        X.append(x)\n",
    "\n",
    "# Convert these lists to numpy arrays.\n",
    "X = np.array(X)\n",
    "Y = np.array(Y)\n",
    "\n",
    "# Split into train and test data.\n",
    "train_data, train_labels = X[:7000], Y[:7000]\n",
    "test_data, test_labels = X[7000:], Y[7000:]\n",
    "\n",
    "# Check that the shapes look right.\n",
    "print train_data.shape, test_data.shape"
   ]
  },
  {
   "cell_type": "markdown",
   "metadata": {},
   "source": [
    "(1) Run Principal Components Analysis on the data. Show what fraction of the total variance in the training data is explained by the first k principal components, for k in [1, 50]."
   ]
  },
  {
   "cell_type": "code",
   "execution_count": null,
   "metadata": {
    "collapsed": false
   },
   "outputs": [],
   "source": [
    "def P1():\n",
    "### STUDENT START ###\n",
    "    for n in range(1,50):\n",
    "        p1_pca = PCA(n_components=n)\n",
    "        p1_pca.fit(train_data)\n",
    "        cumsum = np.cumsum(p1_pca.explained_variance_ratio_)\n",
    "        print n , cumsum[len(cumsum)-1]\n",
    "\n",
    "### STUDENT END ###\n",
    "\n",
    "P1()"
   ]
  },
  {
   "cell_type": "markdown",
   "metadata": {},
   "source": [
    "(2) PCA can be very useful for visualizing data. Project the training data down to 2 dimensions and plot it. Show the positive (poisonous) cases in blue and the negative (non-poisonous) in red. Here's a reference for plotting: http://matplotlib.org/users/pyplot_tutorial.html"
   ]
  },
  {
   "cell_type": "code",
   "execution_count": 36,
   "metadata": {
    "collapsed": false
   },
   "outputs": [
    {
     "name": "stdout",
     "output_type": "stream",
     "text": [
      "Data (7000, 2)\n",
      "[ 1.05434454  0.89426308]\n",
      "[ 1.05434454  1.44383045  1.54310134 ...,  0.84782643  1.07204581\n",
      "  0.47873986] [ 0.89426308  0.08008516  0.28842409 ...,  0.5247949  -0.23034774\n",
      "  0.9996519 ]\n"
     ]
    },
    {
     "data": {
      "image/png": "[encoded data removed]",
      "text/plain": [
       "<matplotlib.figure.Figure at 0x7f4db8ba7b50>"
      ]
     },
     "metadata": {},
     "output_type": "display_data"
    }
   ],
   "source": [
    "def P2():\n",
    "### STUDENT START ###\n",
    "    p2_pca = PCA(n_components=2)\n",
    "    data = p2_pca.fit_transform(train_data)\n",
    "    print 'Data',data.shape\n",
    "    #plt.scatter(p2_pca.components_[0],p2_pca.components_[1],c=['#FF0000', '#0000FF'])\n",
    "    plt.scatter(data[:,0],data[:,1],c=['#FF0000', '#0000FF'])\n",
    "### STUDENT END ###\n",
    "\n",
    "P2()"
   ]
  },
  {
   "cell_type": "markdown",
   "metadata": {},
   "source": [
    "(3) Run KMeans with [1,16] clusters over the 2d projected data. Mark each centroid cluster and plot a circle that goes through the most distant point assigned to each cluster."
   ]
  },
  {
   "cell_type": "code",
   "execution_count": 38,
   "metadata": {
    "collapsed": false
   },
   "outputs": [
    {
     "name": "stdout",
     "output_type": "stream",
     "text": [
      "[[ -5.09248199e-15   1.00617927e-16]]\n",
      "[[-1.67541821 -0.31584959]\n",
      " [ 0.96660195  0.18222366]]\n",
      "[[ 0.95036104  0.18013088]\n",
      " [-1.30910432 -2.46361246]\n",
      " [-1.9891398   1.29271053]]\n",
      "[[-2.01310033  1.30649721]\n",
      " [ 1.311057   -0.20178457]\n",
      " [ 0.45425175  0.66486032]\n",
      " [-1.31678222 -2.49067128]]\n",
      "[[ 1.33574969 -0.19518956]\n",
      " [-2.01753926  1.31002886]\n",
      " [-1.31887122 -2.49722569]\n",
      " [ 0.06940547  0.1828917 ]\n",
      " [ 0.62926237  0.83843577]]\n",
      "[[-1.31887122 -2.49722569]\n",
      " [ 0.62601669  0.83160511]\n",
      " [-1.74925444  1.57433353]\n",
      " [ 1.33596425 -0.19535086]\n",
      " [-2.27826676  1.05316939]\n",
      " [ 0.05700141  0.17367872]]\n",
      "[[ -1.44811304e-03   2.38049830e-01]\n",
      " [ -1.31887122e+00  -2.49722569e+00]\n",
      " [ -2.27985839e+00   1.05389038e+00]\n",
      " [  1.12209573e+00  -3.56451230e-01]\n",
      " [ -1.74981133e+00   1.57413186e+00]\n",
      " [  1.46811721e+00  -6.67859613e-02]\n",
      " [  6.29035231e-01   8.34639056e-01]]\n",
      "[[ 0.66481574  0.89954703]\n",
      " [-1.31887122 -2.49722569]\n",
      " [-1.75792006  1.56096763]\n",
      " [ 1.14809587 -0.37282756]\n",
      " [ 0.33149331  0.41608434]\n",
      " [-2.32552887  1.06906303]\n",
      " [ 1.46597461 -0.05186852]\n",
      " [-0.58703929  0.04389868]]\n",
      "[[ 0.2884923   0.35506495]\n",
      " [-1.76237207  1.55814867]\n",
      " [-1.31887122 -2.49722569]\n",
      " [ 1.46675456 -0.04790626]\n",
      " [ 0.48118732  0.9682069 ]\n",
      " [ 1.15790292 -0.37377561]\n",
      " [-2.32928555  1.06463641]\n",
      " [ 0.93686028  0.66565318]\n",
      " [-0.59102566  0.04131609]]\n",
      "[[-1.75552089  1.56382838]\n",
      " [ 1.38819755 -0.3736275 ]\n",
      " [-1.31887122 -2.49722569]\n",
      " [ 0.48303725  0.97338474]\n",
      " [ 1.44093413  0.0402393 ]\n",
      " [-2.32211764  1.07118122]\n",
      " [ 0.25889117  0.39023255]\n",
      " [-0.60569832  0.05573708]\n",
      " [ 0.93624394  0.67203858]\n",
      " [ 0.8506486  -0.26327607]]\n",
      "[[ 1.43976263  0.04371356]\n",
      " [-2.4413997   0.97182125]\n",
      " [-1.31887122 -2.49722569]\n",
      " [ 0.93736117  0.67351301]\n",
      " [-1.58287632  1.7158049 ]\n",
      " [ 0.87700706 -0.27437354]\n",
      " [-0.60060749  0.0555548 ]\n",
      " [ 0.26492926  0.38978069]\n",
      " [ 0.48305293  0.97420073]\n",
      " [-2.0043544   1.34349244]\n",
      " [ 1.40059078 -0.37175338]]\n",
      "[[ 1.37813602 -0.3778573 ]\n",
      " [-2.0238156   1.33465158]\n",
      " [-1.31887122 -2.49722569]\n",
      " [ 0.2607517   0.39256761]\n",
      " [ 1.44673027  0.0347429 ]\n",
      " [-1.59277238  1.69958313]\n",
      " [ 0.9372878   0.67354998]\n",
      " [-0.98157441  0.50467071]\n",
      " [ 0.84886904 -0.25176862]\n",
      " [-2.45352392  0.96202048]\n",
      " [-0.41280764 -0.18285703]\n",
      " [ 0.48305293  0.97420073]]\n",
      "[[ 1.40600994 -0.37173374]\n",
      " [-2.43557339  0.97665863]\n",
      " [-1.43566947 -2.39025179]\n",
      " [ 0.48305293  0.97420073]\n",
      " [-1.57948347  1.71803975]\n",
      " [ 0.8976478  -0.27129005]\n",
      " [ 0.26450153  0.38800028]\n",
      " [-2.00061879  1.35108932]\n",
      " [ 0.93736117  0.67351301]\n",
      " [-0.98157441  0.50467071]\n",
      " [-1.19480149 -2.61085944]\n",
      " [-0.41280764 -0.18285703]\n",
      " [ 1.44237784  0.04480287]]\n",
      "[[-2.01443307  1.33996922]\n",
      " [ 1.46632334 -0.42094901]\n",
      " [-1.31887122 -2.49722569]\n",
      " [ 0.9312574   0.6676017 ]\n",
      " [-0.65306066  0.30050298]\n",
      " [ 0.52548055  1.09680035]\n",
      " [ 1.4681877   0.05055238]\n",
      " [ 0.67630887 -0.26244127]\n",
      " [-2.44622721  0.96663376]\n",
      " [-1.58788366  1.70703706]\n",
      " [ 0.21060779  0.33192681]\n",
      " [ 0.40567386  0.75413995]\n",
      " [-0.54320075 -0.63695966]\n",
      " [ 1.17353119 -0.23529125]]\n",
      "[[ 1.47080699  0.05143806]\n",
      " [-1.91041452  1.42212418]\n",
      " [-1.19480149 -2.61085944]\n",
      " [ 0.4830894   0.97377683]\n",
      " [ 0.67488502 -0.25148072]\n",
      " [ 0.24536     0.40141072]\n",
      " [ 0.93382508  0.66940868]\n",
      " [-2.23263041  1.17493434]\n",
      " [ 1.18128914 -0.2328224 ]\n",
      " [-0.40066528 -0.2884696 ]\n",
      " [-0.85886688  0.43671276]\n",
      " [ 1.46741486 -0.4261883 ]\n",
      " [-1.43566947 -2.39025179]\n",
      " [-1.54610647  1.75197257]\n",
      " [-2.54080385  0.85450197]]\n",
      "[[-1.58699755  1.70721021]\n",
      " [ 0.69845468 -0.33627453]\n",
      " [-1.43566947 -2.39025179]\n",
      " [ 0.52386213  1.09478827]\n",
      " [ 0.05147685  0.27676615]\n",
      " [ 1.50927588 -0.42407968]\n",
      " [ 1.46159233  0.05378195]\n",
      " [-1.19480149 -2.61085944]\n",
      " [-0.86576806  0.4361454 ]\n",
      " [-2.44622721  0.96663376]\n",
      " [ 1.20586652 -0.27249254]\n",
      " [-2.0151305   1.34160171]\n",
      " [ 0.97038006  0.72439133]\n",
      " [-0.5723461  -0.67400024]\n",
      " [ 0.38471721  0.74826623]\n",
      " [ 0.60007804  0.29413992]]\n"
     ]
    }
   ],
   "source": [
    "def P3():\n",
    "### STUDENT START ###\n",
    "    p3_pca = PCA(n_components=2)\n",
    "    data = p3_pca.fit_transform(train_data)\n",
    "    for n in range(1,17):\n",
    "        km_p3 = KMeans(n_clusters=n)\n",
    "        clstr = km_p3.fit(data)\n",
    "        print clstr.cluster_centers_\n",
    "\n",
    "### STUDENT END ###\n",
    "\n",
    "P3()"
   ]
  },
  {
   "cell_type": "markdown",
   "metadata": {},
   "source": [
    "(4) Fit a Gaussian Mixture Model for the positive examples in your 2d projected data. Plot the estimated density contours as shown here: http://scikit-learn.org/stable/auto_examples/mixture/plot_gmm_pdf.html#example-mixture-plot-gmm-pdf-py. Vary the number of mixture components from 1-4 and the covariance matrix type ('spherical', 'diag', 'tied', 'full')."
   ]
  },
  {
   "cell_type": "code",
   "execution_count": 4,
   "metadata": {
    "collapsed": false
   },
   "outputs": [],
   "source": [
    "#def P4():\n",
    "### STUDENT START ###\n",
    "\n",
    "### STUDENT END ###\n",
    "\n",
    "#P4()"
   ]
  },
  {
   "cell_type": "markdown",
   "metadata": {},
   "source": [
    "(5) Fit two 4-component full covariance GMMs, one for the positive examples and one for the negative examples in your 2d projected data. Predict the test examples by choosing the label for which the model gives a larger probability (use GMM.score). What is the accuracy?"
   ]
  },
  {
   "cell_type": "code",
   "execution_count": 5,
   "metadata": {
    "collapsed": false
   },
   "outputs": [],
   "source": [
    "#def P5():\n",
    "### STUDENT START ###\n",
    "\n",
    "### STUDENT END ###\n",
    "\n",
    "#P5()"
   ]
  },
  {
   "cell_type": "markdown",
   "metadata": {},
   "source": [
    "(6) Ideally, we'd like a model that gives the best accuracy with the fewest parameters. Run a series of experiments to find the model that gives the best accuracy with no more than 50 parameters. For example, with 3 PCA components and 2-component diagonal covariance GMMs, you'd have:\n",
    "\n",
    "( (3 mean vector + 3 covariance matrix) x 2 components ) x 2 classes = 24 parameters\n",
    "\n",
    "You should vary the number of PCA components, the number of GMM components, and the covariance type."
   ]
  },
  {
   "cell_type": "code",
   "execution_count": 6,
   "metadata": {
    "collapsed": false
   },
   "outputs": [],
   "source": [
    "#def P6():\n",
    "### STUDENT START ###\n",
    "\n",
    "### STUDENT END ###\n",
    "\n",
    "#P6()"
   ]
  },
  {
   "cell_type": "code",
   "execution_count": null,
   "metadata": {
    "collapsed": true
   },
   "outputs": [],
   "source": []
  }
 ],
 "metadata": {
  "kernelspec": {
   "display_name": "Python 2",
   "language": "python",
   "name": "python2"
  },
  "language_info": {
   "codemirror_mode": {
    "name": "ipython",
    "version": 2
   },
   "file_extension": ".py",
   "mimetype": "text/x-python",
   "name": "python",
   "nbconvert_exporter": "python",
   "pygments_lexer": "ipython2",
   "version": "2.7.11"
  }
 },
 "nbformat": 4,
 "nbformat_minor": 0
}
