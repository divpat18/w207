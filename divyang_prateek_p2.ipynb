{
 "cells": [
  {
   "cell_type": "markdown",
   "metadata": {},
   "source": [
    "# Project 2: Topic Classification"
   ]
  },
  {
   "cell_type": "markdown",
   "metadata": {},
   "source": [
    "In this project, you'll work with text data from newsgroup postings on a variety of topics. You'll train classifiers to distinguish between the topics based on the text of the posts. Whereas with digit classification, the input is relatively dense: a 28x28 matrix of pixels, many of which are non-zero, here we'll represent each document with a \"bag-of-words\" model. As you'll see, this makes the feature representation quite sparse -- only a few words of the total vocabulary are active in any given document. The bag-of-words assumption here is that the label depends only on the words; their order is not important.\n",
    "\n",
    "The SK-learn documentation on feature extraction will prove useful:\n",
    "http://scikit-learn.org/stable/modules/feature_extraction.html\n",
    "\n",
    "Each problem can be addressed succinctly with the included packages -- please don't add any more. Grading will be based on writing clean, commented code, along with a few short answers.\n",
    "\n",
    "As always, you're welcome to work on the project in groups and discuss ideas on the course wall, but please prepare your own write-up and write your own code."
   ]
  },
  {
   "cell_type": "code",
   "execution_count": null,
   "metadata": {
    "collapsed": false
   },
   "outputs": [],
   "source": [
    "# This tells matplotlib not to try opening a new window for each plot.\n",
    "%matplotlib inline\n",
    "\n",
    "# General libraries.\n",
    "import re\n",
    "import numpy as np\n",
    "import matplotlib.pyplot as plt\n",
    "\n",
    "# SK-learn libraries for learning.\n",
    "from sklearn.pipeline import Pipeline\n",
    "from sklearn.neighbors import KNeighborsClassifier\n",
    "from sklearn.linear_model import LogisticRegression\n",
    "from sklearn.naive_bayes import BernoulliNB\n",
    "from sklearn.naive_bayes import MultinomialNB\n",
    "from sklearn.grid_search import GridSearchCV\n",
    "\n",
    "# SK-learn libraries for evaluation.\n",
    "from sklearn.metrics import confusion_matrix\n",
    "from sklearn import metrics\n",
    "from sklearn.metrics import classification_report\n",
    "\n",
    "# SK-learn library for importing the newsgroup data.\n",
    "from sklearn.datasets import fetch_20newsgroups\n",
    "\n",
    "# SK-learn libraries for feature extraction from text.\n",
    "from sklearn.feature_extraction.text import *"
   ]
  },
  {
   "cell_type": "markdown",
   "metadata": {},
   "source": [
    "Load the data, stripping out metadata so that we learn classifiers that only use textual features. By default, newsgroups data is split into train and test sets. We further split the test so we have a dev set. Note that we specify 4 categories to use for this project. If you remove the categories argument from the fetch function, you'll get all 20 categories."
   ]
  },
  {
   "cell_type": "code",
   "execution_count": null,
   "metadata": {
    "collapsed": false
   },
   "outputs": [],
   "source": [
    "categories = ['alt.atheism', 'talk.religion.misc', 'comp.graphics', 'sci.space']\n",
    "newsgroups_train = fetch_20newsgroups(subset='train',\n",
    "                                      remove=('headers', 'footers', 'quotes'),\n",
    "                                      categories=categories)\n",
    "newsgroups_test = fetch_20newsgroups(subset='test',\n",
    "                                     remove=('headers', 'footers', 'quotes'),\n",
    "                                     categories=categories)\n",
    "\n",
    "num_test = len(newsgroups_test.target)\n",
    "test_data, test_labels = newsgroups_test.data[num_test/2:], newsgroups_test.target[num_test/2:]\n",
    "dev_data, dev_labels = newsgroups_test.data[:num_test/2], newsgroups_test.target[:num_test/2]\n",
    "train_data, train_labels = newsgroups_train.data, newsgroups_train.target\n",
    "\n",
    "print 'training label shape:', train_labels.shape\n",
    "print 'test label shape:', test_labels.shape\n",
    "print 'dev label shape:', dev_labels.shape\n",
    "print 'labels names:', newsgroups_train.target_names"
   ]
  },
  {
   "cell_type": "markdown",
   "metadata": {},
   "source": [
    "(1) For each of the first 5 training examples, print the text of the message along with the label.\n",
    "\n",
    "[2 pts]"
   ]
  },
  {
   "cell_type": "code",
   "execution_count": null,
   "metadata": {
    "collapsed": false
   },
   "outputs": [],
   "source": [
    "def P1(num_examples=5):\n",
    "### STUDENT START ###\n",
    "    for i in range(num_examples):\n",
    "        print 'Label' + str(i) + ':', train_labels[i], \n",
    "        print 'Data' + str(i) + ':' ,train_data[i]\n",
    "\n",
    "### STUDENT END ###\n",
    "P1(5)"
   ]
  },
  {
   "cell_type": "markdown",
   "metadata": {},
   "source": [
    "(2) Use CountVectorizer to turn the raw training text into feature vectors. You should use the fit_transform function, which makes 2 passes through the data: first it computes the vocabulary (\"fit\"), second it converts the raw text into feature vectors using the vocabulary (\"transform\").\n",
    "\n",
    "The vectorizer has a lot of options. To get familiar with some of them, write code to answer these questions:\n",
    "\n",
    "a. The output of the transform (also of fit_transform) is a sparse matrix: http://docs.scipy.org/doc/scipy-0.14.0/reference/generated/scipy.sparse.csr_matrix.html. What is the size of the vocabulary? What is the average number of non-zero features per example? What fraction of the entries in the matrix are non-zero? Hint: use \"nnz\" and \"shape\" attributes.\n",
    "\n",
    "b. What are the 0th and last feature strings (in alphabetical order)? Hint: use the vectorizer's get_feature_names function.\n",
    "\n",
    "c. Specify your own vocabulary with 4 words: [\"atheism\", \"graphics\", \"space\", \"religion\"]. Confirm the training vectors are appropriately shaped. Now what's the average number of non-zero features per example?\n",
    "\n",
    "d. Instead of extracting unigram word features, use \"analyzer\" and \"ngram_range\" to extract bigram and trigram character features. What size vocabulary does this yield?\n",
    "\n",
    "e. Use the \"min_df\" argument to prune words that appear in fewer than 10 documents. What size vocabulary does this yield?\n",
    "\n",
    "f. Using the standard CountVectorizer, what fraction of the words in the dev data are missing from the vocabulary? Hint: build a vocabulary for both train and dev and look at the size of the difference.\n",
    "\n",
    "[6 pts]"
   ]
  },
  {
   "cell_type": "code",
   "execution_count": 85,
   "metadata": {
    "collapsed": false
   },
   "outputs": [
    {
     "name": "stdout",
     "output_type": "stream",
     "text": [
      "Shape of vector (2034, 26879)\n",
      "Avg number of Non zero features:  96.7059980334\n",
      "Fraction of non zero:  0.00359782722696\n",
      "First Feature String:  00\n",
      "Last Feature String:  zyxel\n",
      "Shape with custom vocabulary:  (2034, 4)\n",
      "Avg number of Non zero features with custom vocabulary:  0.268436578171\n",
      "{'atheism': 0, 'religion': 3, 'graphics': 1, 'space': 2}\n",
      "Size of Vocabulary for bigram data: 194891\n",
      "Size of Vocabulary for trigram data: 315692\n",
      "Size of vocab with min_df=10:  3064\n",
      "Size of vocab with dev data:  16246\n",
      "Number of words missing:  10633\n"
     ]
    }
   ],
   "source": [
    "def P2():\n",
    "### STUDENT START ###\n",
    "    \n",
    "    # Solution to Part A\n",
    "    countVectorizer = CountVectorizer()\n",
    "    train_counts_default = countVectorizer.fit_transform(train_data)\n",
    "    print 'Shape of vector', train_counts_default.shape\n",
    "    print 'Avg number of Non zero features: ', float(train_counts_default.nnz)/2034.0\n",
    "    print 'Fraction of non zero: ', float(train_counts_default.nnz)/(26879.0*2034)\n",
    "    \n",
    "    #Solution to Part B\n",
    "    print 'First Feature String: ',countVectorizer.get_feature_names()[0]\n",
    "    print 'Last Feature String: ', countVectorizer.get_feature_names()[26878]\n",
    "    \n",
    "    #Solution to part C\n",
    "    countVectorizer2 = CountVectorizer(vocabulary=[\"atheism\", \"graphics\", \"space\", \"religion\"])\n",
    "    #countVectorizer.vocabulary_ = [\"atheism\", \"graphics\", \"space\", \"religion\"]\n",
    "    train_counts_custom_vocab = countVectorizer2.transform(train_data)\n",
    "    print 'Shape with custom vocabulary: ', train_counts_custom_vocab.shape\n",
    "    print 'Avg number of Non zero features with custom vocabulary: ',float(train_counts_custom_vocab.nnz)/2034.0\n",
    "    \n",
    "    #Solution to part D\n",
    "    countVectorizer3 = CountVectorizer(analyzer='word', ngram_range=(2,2))\n",
    "    train_counts_bigram = countVectorizer3.fit_transform(train_data)\n",
    "    print 'Size of Vocabulary for bigram data:' , len(countVectorizer3.vocabulary_)\n",
    "    \n",
    "    countVectorizer4 = CountVectorizer(analyzer='word', ngram_range=(3,3))\n",
    "    train_counts_trigram = countVectorizer4.fit_transform(train_data)\n",
    "    print 'Size of Vocabulary for trigram data:' , len(countVectorizer4.vocabulary_)\n",
    "    \n",
    "    #Solution to part E\n",
    "    countVectorizer5 = CountVectorizer(min_df=10)\n",
    "    train_counts_min10 = countVectorizer5.fit_transform(train_data)\n",
    "    print 'Size of vocab with min_df=10: ', len(countVectorizer5.vocabulary_)\n",
    "    \n",
    "    #Solution to Part F\n",
    "    countVectorizer6 = CountVectorizer()\n",
    "    train_counts_dev = countVectorizer6.fit_transform(dev_data)\n",
    "    print 'Size of vocab with dev data: ', len(countVectorizer6.vocabulary_)\n",
    "    print 'Number of words missing: ', len(countVectorizer.vocabulary_)-len(countVectorizer6.vocabulary_)\n",
    "    \n",
    "### STUDENT END ###\n",
    "\n",
    "P2()"
   ]
  },
  {
   "cell_type": "markdown",
   "metadata": {},
   "source": [
    "(3) Use the default CountVectorizer options and report the f1 score (use metrics.f1_score) for a k nearest neighbors classifier; find the optimal value for k. Also fit a Multinomial Naive Bayes model and find the optimal value for alpha. Finally, fit a logistic regression model and find the optimal value for the regularization strength C using l2 regularization. A few questions:\n",
    "\n",
    "a. Why doesn't nearest neighbors work well for this problem?\n",
    "\n",
    "b. Any ideas why logistic regression doesn't work as well as Naive Bayes?\n",
    "\n",
    "c. Logistic regression estimates a weight vector for each class, which you can access with the coef\\_ attribute. Output the sum of the squared weight values for each class for each setting of the C parameter. Briefly explain the relationship between the sum and the value of C.\n",
    "\n",
    "[4 pts]"
   ]
  },
  {
   "cell_type": "code",
   "execution_count": null,
   "metadata": {
    "collapsed": false
   },
   "outputs": [],
   "source": [
    "def P3():\n",
    "### STUDENT START ###\n",
    "    countVectorizer_p3 = CountVectorizer()\n",
    "    train_counts_default_p3 = countVectorizer_p3.fit_transform(train_data)\n",
    "    #Creating Classifier\n",
    "    knn_clf_p3 = KNeighborsClassifier()\n",
    "    \n",
    "    knn_params = {'n_neighbors':[1,5,10,25,75, 90,95,96,97,100]}\n",
    "    gsv_knn = GridSearchCV(knn_clf_p3,knn_params,scoring='f1_weighted')\n",
    "    gsv_knn.fit(train_counts_default_p3,train_labels)\n",
    "    print \"The best k value is: \", gsv_knn.best_params_\n",
    "    \n",
    "    \n",
    "    mnb_clf_p3 = MultinomialNB()\n",
    "    mnb_params = {'alpha':[0.000000000000001,0.00000000000001,0.0000000000001,0.000000000001,0.00000000001, 0.0000000001,0.0000001,0.00001,0.001,0.1,1,0]}\n",
    "    gsv_mnb = GridSearchCV(mnb_clf_p3,mnb_params,scoring='f1_weighted')\n",
    "    gsv_mnb.fit(train_counts_default_p3,train_labels)\n",
    "    print \"The best alpha value is: \", gsv_mnb.best_params_\n",
    "\n",
    "    \n",
    "    lr_params = [0.001,0.1,0.5,0.55,0.9]\n",
    "    for c in lr_params:\n",
    "        lr_clf_p3 = LogisticRegression(C=c) \n",
    "        model_p3 = lr_clf_p3.fit(train_counts_default_p3,train_labels)\n",
    "        print sum(model_p3.coef_**2)\n",
    "        \n",
    "    ### STUDENT END ###\n",
    "P3()"
   ]
  },
  {
   "cell_type": "markdown",
   "metadata": {},
   "source": [
    "ANSWER:"
   ]
  },
  {
   "cell_type": "markdown",
   "metadata": {},
   "source": [
    "(4) Train a logistic regression model. Find the 5 features with the largest weights for each label -- 20 features in total. Create a table with 20 rows and 4 columns that shows the weight for each of these features for each of the labels. Create the table again with bigram features. Any surprising features in this table?\n",
    "\n",
    "[5 pts]"
   ]
  },
  {
   "cell_type": "code",
   "execution_count": 165,
   "metadata": {
    "collapsed": false
   },
   "outputs": [
    {
     "name": "stdout",
     "output_type": "stream",
     "text": [
      "Score: 0.71449704142\n",
      "['alt.atheism', 'talk.religion.misc', 'comp.graphics', 'sci.space']\n",
      "Printing Table with: 20 20\n",
      "deletion [ 0.72375354 -0.24943135 -0.2724702  -0.27028024]\n",
      "atheism [ 0.79470832 -0.35026576 -0.36720343 -0.37695904]\n",
      "religion [ 0.79842119 -0.50836508 -0.6589265  -0.05054349]\n",
      "bobby [ 0.82358678 -0.19127309 -0.28666387 -0.38725038]\n",
      "atheists [ 0.83402929 -0.09345436 -0.26699008 -0.63760865]\n",
      "computer [ 0.07136329  0.84450679 -0.56946574 -0.39634462]\n",
      "3d [-0.30350504  0.94173374 -0.57104106 -0.3175636 ]\n",
      "file [-0.27531187  1.05954573 -0.68272795 -0.5063008 ]\n",
      "image [-0.46951847  1.11683566 -0.6718813  -0.38053211]\n",
      "graphics [-0.64092059  1.62614474 -1.10311568 -0.62640709]\n",
      "spacecraft [-0.2974424  -0.32206469  0.73706954 -0.29176272]\n",
      "launch [-0.37751284 -0.39677083  0.78390175 -0.28075219]\n",
      "nasa [-0.46536199 -0.41044357  0.85149584 -0.40160994]\n",
      "orbit [-0.3503199  -0.55953686  1.01278637 -0.49904463]\n",
      "space [-1.06135769 -1.11616195  1.8642866  -0.97213294]\n",
      "order [-0.64955492 -0.065625   -0.12413944  0.74291925]\n",
      "fbi [-0.24409806 -0.21746829 -0.37515138  0.75474125]\n",
      "blood [-0.42880652 -0.09691123 -0.23047143  0.8469998 ]\n",
      "christian [-0.48296618 -0.33905349 -0.24739635  0.92573982]\n",
      "christians [-0.60738244 -0.31533319 -0.40439964  0.92971633]\n",
      "Bi-gram Score: 0.622781065089\n",
      "['alt.atheism', 'talk.religion.misc', 'comp.graphics', 'sci.space']\n",
      "Printing Table with: 20 20\n",
      "are you [ 0.44695368 -0.24825338 -0.09712869 -0.30561839]\n",
      "you are [ 0.47274072 -0.27991543 -0.4812964   0.02838589]\n",
      "was just [ 0.48205042 -0.1314238  -0.1289157  -0.22746464]\n",
      "cheers kent [ 0.55571946 -0.69792147 -0.66375556  0.53482222]\n",
      "claim that [ 0.60554855 -0.1990624  -0.27434094 -0.14038065]\n",
      "is there [-0.34088178  0.75500932 -0.46822372 -0.25707688]\n",
      "out there [-0.27480237  0.75865788 -0.47908518 -0.27709644]\n",
      "comp graphics [-0.29216555  0.80120166 -0.37091672 -0.28518641]\n",
      "in advance [-0.45935084  0.83256977 -0.43850388 -0.4184698 ]\n",
      "looking for [-0.63034083  1.1083696  -0.49996166 -0.57183652]\n",
      "it was [-0.20302953 -0.30969519  0.52536334 -0.31356644]\n",
      "and such [-0.20426873 -0.33750971  0.5904959  -0.21819571]\n",
      "sci space [-0.25800841 -0.32916322  0.62104828 -0.22124165]\n",
      "the moon [-0.35056283 -0.49273001  0.83097228 -0.21378789]\n",
      "the space [-0.26818748 -0.53004566  0.87105729 -0.27381031]\n",
      "of jesus [-0.0919099  -0.17376383 -0.21241262  0.42372956]\n",
      "but he [-0.19001927 -0.2168778  -0.1374006   0.49187287]\n",
      "ignorance is [-0.15801122 -0.17107644 -0.13957076  0.50430719]\n",
      "cheers kent [ 0.55571946 -0.69792147 -0.66375556  0.53482222]\n",
      "the fbi [-0.13197402 -0.21135766 -0.29527648  0.55200033]\n"
     ]
    }
   ],
   "source": [
    "def P4():\n",
    "### STUDENT START ###\n",
    "    countVectorizer_p4 = CountVectorizer()\n",
    "    train_counts_default_p4 = countVectorizer_p4.fit_transform(train_data)\n",
    "    dev_counts_default_p4 = countVectorizer_p4.transform(dev_data)\n",
    "        \n",
    "    lr_clf_p4 = LogisticRegression(C=0.5,)\n",
    "    lr_clf_p4 =  lr_clf_p4.fit(train_counts_default_p4, train_labels)\n",
    "    \n",
    "    print 'Score:',lr_clf_p4.score(dev_counts_default_p4,dev_labels)\n",
    "    \n",
    "    model_coef = lr_clf_p4.coef_\n",
    "    model_coef_sorted = np.argsort(model_coef, axis=1)\n",
    "    \n",
    "    sorted_wt_indices = model_coef_sorted[0:4,-5:].reshape(20,)\n",
    "    table  = np.zeros((20,4),dtype=float)\n",
    "    for row in range(len(sorted_wt_indices)):\n",
    "        for column in range(4):\n",
    "            table[row,column] = model_coef[column,sorted_wt_indices[row]]\n",
    "    #print table\n",
    "    printTable(getFeatures(sorted_wt_indices,countVectorizer_p4.vocabulary_),table)\n",
    "    \n",
    "    #Bi-gram\n",
    "    countVectorizer_p4_2 = CountVectorizer(analyzer='word', ngram_range=(2,2))\n",
    "    train_counts_default_p4_2 = countVectorizer_p4_2.fit_transform(train_data)\n",
    "    dev_counts_default_p4_2 = countVectorizer_p4_2.transform(dev_data)\n",
    "    \n",
    "    lr_clf_p4_2 = LogisticRegression(C=0.5,)\n",
    "    lr_clf_p4_2 =  lr_clf_p4_2.fit(train_counts_default_p4_2, train_labels)\n",
    "    \n",
    "    print 'Bi-gram Score:',lr_clf_p4_2.score(dev_counts_default_p4_2,dev_labels)\n",
    "    \n",
    "    model_coef_2 = lr_clf_p4_2.coef_\n",
    "    model_coef_sorted_2 = np.argsort(model_coef_2, axis=1)\n",
    "    \n",
    "    sorted_wt_indices_2 = model_coef_sorted_2[0:4,-5:].reshape(20,)\n",
    "    table_2  = np.zeros((20,4),dtype=float)\n",
    "    \n",
    "    for row in range(len(sorted_wt_indices_2)):\n",
    "        for column in range(4):\n",
    "            table_2[row,column] = model_coef_2[column,sorted_wt_indices_2[row]]\n",
    "    getFeatures(sorted_wt_indices_2,countVectorizer_p4_2.vocabulary_)\n",
    "    printTable(getFeatures(sorted_wt_indices_2,countVectorizer_p4_2.vocabulary_), table_2)\n",
    "\n",
    "def printTable(features,tables):\n",
    "    print categories\n",
    "    count=0\n",
    "    print 'Printing Table with:', len(features),len(tables)\n",
    "    for row in range(len(tables)):\n",
    "        print features[row], tables[row]\n",
    "        #print count\n",
    "        #count+=1\n",
    "    \n",
    "    \n",
    "def getFeatures(indices,vocab):\n",
    "    count=0\n",
    "    feature_name = ['']*20\n",
    "    for feature in vocab:\n",
    "        if vocab.get(feature) in indices:\n",
    "            index = (np.where(indices == vocab.get(feature))[0])\n",
    "            for ind in index:\n",
    "                    feature_name[ind]=feature\n",
    "                    count=count+1\n",
    "        if count ==20:\n",
    "            break\n",
    "    return feature_name\n",
    "### STUDENT END ###\n",
    "P4()"
   ]
  },
  {
   "cell_type": "markdown",
   "metadata": {},
   "source": [
    "ANSWER: The bi-gram \"cheers kent\" appears twice as it has the highest weight for the first and the last label."
   ]
  },
  {
   "cell_type": "markdown",
   "metadata": {},
   "source": [
    "(5) Try to improve the logistic regression classifier by passing a custom preprocessor to CountVectorizer. The preprocessing function runs on the raw text, before it is split into words by the tokenizer. Your preprocessor should try to normalize the input in various ways to improve generalization. For example, try lowercasing everything, replacing sequences of numbers with a single token, removing various other non-letter characters, and shortening long words. If you're not already familiar with regular expressions for manipulating strings, see https://docs.python.org/2/library/re.html, and re.sub() in particular. With your new preprocessor, how much did you reduce the size of the dictionary?\n",
    "\n",
    "For reference, I was able to improve dev F1 by 2 points.\n",
    "\n",
    "[4 pts]"
   ]
  },
  {
   "cell_type": "code",
   "execution_count": 81,
   "metadata": {
    "collapsed": false
   },
   "outputs": [
    {
     "name": "stdout",
     "output_type": "stream",
     "text": [
      "28295\n",
      "0.690772677581\n"
     ]
    },
    {
     "name": "stderr",
     "output_type": "stream",
     "text": [
      "/home/divyang/anaconda2/lib/python2.7/site-packages/sklearn/metrics/classification.py:756: DeprecationWarning: The default `weighted` averaging is deprecated, and from version 0.18, use of precision, recall or F-score with multiclass or multilabel data or pos_label=None will result in an exception. Please set an explicit value for `average`, one of (None, 'micro', 'macro', 'weighted', 'samples'). In cross validation use, for instance, scoring=\"f1_weighted\" instead of scoring=\"f1\".\n",
      "  sample_weight=sample_weight)\n"
     ]
    }
   ],
   "source": [
    "def empty_preprocessor(s):\n",
    "    return s\n",
    "\n",
    "def better_preprocessor(s):\n",
    "### STUDENT START ###\n",
    "    s= s.lower()\n",
    "    s=remove_non_alpha_numeric(s)\n",
    "    s=remove_number(s)\n",
    "    return s\n",
    "\n",
    "def remove_number(s):\n",
    "    s = re.sub( r'\\s(\\d)+\\s', r\" ZZ \" , s)\n",
    "    return s\n",
    "\n",
    "def remove_non_alpha_numeric(s):\n",
    "    s=re.sub( r'([^\\s\\w]|_)+', r\"\",s)\n",
    "    #s=re.search('(\\w+|\\s)',s).group(1)\n",
    "    return s\n",
    "\n",
    "#print train_data[0]\n",
    "#print better_preprocessor(str(train_data[0]))\n",
    "#print better_preprocessor(' 1234 4rf 1231 ')\n",
    "### STUDENT END ###\n",
    "\n",
    "def P5():\n",
    "### STUDENT START ###\n",
    "    i = 0\n",
    "    countVectorizer_p5 = CountVectorizer(preprocessor=better_preprocessor)\n",
    "    train_counts_default_p5 = countVectorizer_p5.fit_transform(train_data)\n",
    "    \n",
    "    #prep = countVectorizer_p5.build_preprocessor()\n",
    "    #print str(train_data[0])\n",
    "    #print prep(str(train_data[0]))\n",
    "    #print better_preprocessor(str(train_data[0]))\n",
    "\n",
    "    print len(countVectorizer_p5.vocabulary_)\n",
    "    #print sorted(countVectorizer_p5.vocabulary_)\n",
    "    dev_counts_default_p5 = countVectorizer_p5.transform(dev_data)\n",
    "    \n",
    "    lr_clf_p5 = LogisticRegression(C=0.5)\n",
    "    lr_clf_p5 = lr_clf_p5.fit(train_counts_default_p5,train_labels)\n",
    "    predicted_labels_p5 =  lr_clf_p5.predict(dev_counts_default_p5)\n",
    "    print metrics.f1_score(dev_labels,predicted_labels_p5)\n",
    "    \n",
    "    \n",
    "### STUDENT END ###\n",
    "P5()"
   ]
  },
  {
   "cell_type": "markdown",
   "metadata": {},
   "source": [
    "(6) The idea of regularization is to avoid learning very large weights (which are likely to fit the training data, but not generalize well) by adding a penalty to the total size of the learned weights. That is, logistic regression seeks the set of weights that minimizes errors in the training data AND has a small size. The default regularization, L2, computes this size as the sum of the squared weights (see P3, above). L1 regularization computes this size as the sum of the absolute values of the weights. The result is that whereas L2 regularization makes all the weights relatively small, L1 regularization drives lots of the weights to 0, effectively removing unimportant features.\n",
    "\n",
    "Train a logistic regression model using a \"l1\" penalty. Output the number of learned weights that are not equal to zero. How does this compare to the number of non-zero weights you get with \"l2\"? Now, reduce the size of the vocabulary by keeping only those features that have at least one non-zero weight and retrain a model using \"l2\".\n",
    "\n",
    "Make a plot showing accuracy of the re-trained model vs. the vocabulary size you get when pruning unused features by adjusting the C parameter.\n",
    "\n",
    "Note: The gradient descent code that trains the logistic regression model sometimes has trouble converging with extreme settings of the C parameter. Relax the convergence criteria by setting tol=.01 (the default is .0001).\n",
    "\n",
    "[4 pts]"
   ]
  },
  {
   "cell_type": "code",
   "execution_count": 108,
   "metadata": {
    "collapsed": false
   },
   "outputs": [
    {
     "name": "stdout",
     "output_type": "stream",
     "text": [
      "Number of Non Zero weights for l1:  1213\n",
      "Number of Non Zero weights for l2:  107516\n",
      "26879\n",
      "(4, 26879)\n",
      "[0.66012904818525708, 0.66515812104222305, 0.66524715814518698, 0.66537954909089092, 0.66717472795823463, 0.66047788332781387, 0.6649422136201002, 0.66312845749970006, 0.65552379871430688, 0.65773500127793016]\n"
     ]
    }
   ],
   "source": [
    "def P6():\n",
    "    # Keep this random seed here to make comparison easier.\n",
    "    np.random.seed(0)\n",
    "\n",
    "    ### STUDENT START ###\n",
    "    countVectorizer_p6 = CountVectorizer()\n",
    "    train_counts_default_p6 = countVectorizer_p6.fit_transform(train_data)\n",
    "    dev_counts_default_p6 = countVectorizer_p6.transform(dev_data)\n",
    "        \n",
    "    lr_clf_p6 = LogisticRegression(penalty='l1',C=0.5,tol=0.01)\n",
    "    lr_clf_p6 =  lr_clf_p6.fit(train_counts_default_p6, train_labels)\n",
    "    \n",
    "    lr_clf_p6_2 = LogisticRegression(penalty='l2',C=0.5,tol=0.01)\n",
    "    lr_clf_p6_2 =  lr_clf_p6_2.fit(train_counts_default_p6, train_labels)\n",
    "\n",
    "    print 'Number of Non Zero weights for l1: ', np.count_nonzero(lr_clf_p6.coef_)\n",
    "    print 'Number of Non Zero weights for l2: ',np.count_nonzero(lr_clf_p6_2.coef_)\n",
    "    \n",
    "    modified_vocab = getModifiedVocabulary(lr_clf_p6.coef_, countVectorizer_p6.vocabulary_)\n",
    "\n",
    "    countVectorizer_p6_3 = CountVectorizer(vocabulary=modified_vocab)\n",
    "    train_counts_l2_p6= countVectorizer_p6_3.fit_transform(train_data)\n",
    "    dev_counts_l2_p6 = countVectorizer_p6_3.transform(dev_data)\n",
    "    c_values = [0.1, 0.2,0.3,0.4,0.5,0.6,0.7,0.8,0.9,1.0]\n",
    "    accuracies = []\n",
    "    for c in c_values:\n",
    "        lr_clf_p6_3 = LogisticRegression(penalty='l2',C=c,tol=0.01)\n",
    "        lr_clf_p6_3 =  lr_clf_p6_3.fit(train_counts_l2_p6, train_labels)\n",
    "        predicted_labels = lr_clf_p6_3.predict(dev_counts_l2_p6)\n",
    "        accuracies.append(metrics.f1_score(dev_labels,predicted_labels,average='weighted'))\n",
    "    \n",
    "    print accuracies\n",
    "def getModifiedVocabulary(weights, vocab):\n",
    "    mod_vocab = []\n",
    "    count =0 \n",
    "    for key in vocab:\n",
    "        index = vocab.get(key)\n",
    "        if weights[0,index] !=0 or weights[1,index]!=0 or weights[2,index]!=0 or weights[3,index]!=0:\n",
    "            mod_vocab.append(key)\n",
    "            count+=1\n",
    "    return mod_vocab    \n",
    "    ### STUDENT END ###\n",
    "P6()"
   ]
  },
  {
   "cell_type": "markdown",
   "metadata": {},
   "source": [
    "(7) Use the TfidfVectorizer -- how is this different from the CountVectorizer? Train a logistic regression model with C=100.\n",
    "\n",
    "Make predictions on the dev data and show the top 3 documents where the ratio R is largest, where R is:\n",
    "\n",
    "maximum predicted probability / predicted probability of the correct label\n",
    "\n",
    "What kinds of mistakes is the model making? Suggest a way to address one particular issue that you see.\n",
    "\n",
    "[4 pts]"
   ]
  },
  {
   "cell_type": "code",
   "execution_count": 112,
   "metadata": {
    "collapsed": false
   },
   "outputs": [
    {
     "name": "stdout",
     "output_type": "stream",
     "text": [
      "0.759766242785\n"
     ]
    },
    {
     "name": "stderr",
     "output_type": "stream",
     "text": [
      "/home/divyang/anaconda2/lib/python2.7/site-packages/sklearn/metrics/classification.py:756: DeprecationWarning: The default `weighted` averaging is deprecated, and from version 0.18, use of precision, recall or F-score with multiclass or multilabel data or pos_label=None will result in an exception. Please set an explicit value for `average`, one of (None, 'micro', 'macro', 'weighted', 'samples'). In cross validation use, for instance, scoring=\"f1_weighted\" instead of scoring=\"f1\".\n",
      "  sample_weight=sample_weight)\n"
     ]
    }
   ],
   "source": [
    "def P7():\n",
    "    ### STUDENT START ###\n",
    "    tf_Vectorizer = TfidfVectorizer()\n",
    "    train_tf_count_p7 = tf_Vectorizer.fit_transform(train_data)\n",
    "    dev_tf_count_p7 = tf_Vectorizer.transform(dev_data)\n",
    "    \n",
    "    lr_clf_p7 = LogisticRegression(C=100)\n",
    "    lr_clf_p7 = lr_clf_p7.fit(train_tf_count_p7,train_labels)\n",
    "    predicted_labels_p7 = lr_clf_p7.predict(dev_tf_count_p7)\n",
    "    print metrics.f1_score(dev_labels,predicted_labels_p7)\n",
    "\n",
    "\n",
    "    ### STUDENT END ###\n",
    "P7()"
   ]
  },
  {
   "cell_type": "markdown",
   "metadata": {},
   "source": [
    "ANSWER:"
   ]
  },
  {
   "cell_type": "markdown",
   "metadata": {},
   "source": [
    "(8) EXTRA CREDIT\n",
    "\n",
    "Try implementing one of your ideas based on your error analysis. Use logistic regression as your underlying model.\n",
    "\n",
    "- [1 pt] for a reasonable attempt\n",
    "- [2 pts] for improved performance"
   ]
  }
 ],
 "metadata": {
  "kernelspec": {
   "display_name": "Python 2",
   "language": "python",
   "name": "python2"
  },
  "language_info": {
   "codemirror_mode": {
    "name": "ipython",
    "version": 2
   },
   "file_extension": ".py",
   "mimetype": "text/x-python",
   "name": "python",
   "nbconvert_exporter": "python",
   "pygments_lexer": "ipython2",
   "version": "2.7.11"
  }
 },
 "nbformat": 4,
 "nbformat_minor": 0
}
