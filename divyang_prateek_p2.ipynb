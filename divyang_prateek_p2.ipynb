{
 "cells": [
  {
   "cell_type": "markdown",
   "metadata": {},
   "source": [
    "# Project 2: Topic Classification"
   ]
  },
  {
   "cell_type": "markdown",
   "metadata": {},
   "source": [
    "In this project, you'll work with text data from newsgroup postings on a variety of topics. You'll train classifiers to distinguish between the topics based on the text of the posts. Whereas with digit classification, the input is relatively dense: a 28x28 matrix of pixels, many of which are non-zero, here we'll represent each document with a \"bag-of-words\" model. As you'll see, this makes the feature representation quite sparse -- only a few words of the total vocabulary are active in any given document. The bag-of-words assumption here is that the label depends only on the words; their order is not important.\n",
    "\n",
    "The SK-learn documentation on feature extraction will prove useful:\n",
    "http://scikit-learn.org/stable/modules/feature_extraction.html\n",
    "\n",
    "Each problem can be addressed succinctly with the included packages -- please don't add any more. Grading will be based on writing clean, commented code, along with a few short answers.\n",
    "\n",
    "As always, you're welcome to work on the project in groups and discuss ideas on the course wall, but please prepare your own write-up and write your own code."
   ]
  },
  {
   "cell_type": "code",
   "execution_count": 14,
   "metadata": {
    "collapsed": false
   },
   "outputs": [],
   "source": [
    "# This tells matplotlib not to try opening a new window for each plot.\n",
    "%matplotlib inline\n",
    "\n",
    "# General libraries.\n",
    "import re\n",
    "import numpy as np\n",
    "import matplotlib.pyplot as plt\n",
    "\n",
    "# SK-learn libraries for learning.\n",
    "from sklearn.pipeline import Pipeline\n",
    "from sklearn.neighbors import KNeighborsClassifier\n",
    "from sklearn.linear_model import LogisticRegression\n",
    "from sklearn.naive_bayes import BernoulliNB\n",
    "from sklearn.naive_bayes import MultinomialNB\n",
    "from sklearn.grid_search import GridSearchCV\n",
    "\n",
    "# SK-learn libraries for evaluation.\n",
    "from sklearn.metrics import confusion_matrix\n",
    "from sklearn import metrics\n",
    "from sklearn.metrics import classification_report\n",
    "\n",
    "# SK-learn library for importing the newsgroup data.\n",
    "from sklearn.datasets import fetch_20newsgroups\n",
    "\n",
    "# SK-learn libraries for feature extraction from text.\n",
    "from sklearn.feature_extraction.text import *"
   ]
  },
  {
   "cell_type": "markdown",
   "metadata": {},
   "source": [
    "Load the data, stripping out metadata so that we learn classifiers that only use textual features. By default, newsgroups data is split into train and test sets. We further split the test so we have a dev set. Note that we specify 4 categories to use for this project. If you remove the categories argument from the fetch function, you'll get all 20 categories."
   ]
  },
  {
   "cell_type": "code",
   "execution_count": 15,
   "metadata": {
    "collapsed": false
   },
   "outputs": [
    {
     "name": "stdout",
     "output_type": "stream",
     "text": [
      "training label shape: (2034,)\n",
      "test label shape: (677,)\n",
      "dev label shape: (676,)\n",
      "labels names: ['alt.atheism', 'comp.graphics', 'sci.space', 'talk.religion.misc']\n"
     ]
    }
   ],
   "source": [
    "categories = ['alt.atheism', 'talk.religion.misc', 'comp.graphics', 'sci.space']\n",
    "newsgroups_train = fetch_20newsgroups(subset='train',\n",
    "                                      remove=('headers', 'footers', 'quotes'),\n",
    "                                      categories=categories)\n",
    "newsgroups_test = fetch_20newsgroups(subset='test',\n",
    "                                     remove=('headers', 'footers', 'quotes'),\n",
    "                                     categories=categories)\n",
    "\n",
    "num_test = len(newsgroups_test.target)\n",
    "test_data, test_labels = newsgroups_test.data[num_test/2:], newsgroups_test.target[num_test/2:]\n",
    "dev_data, dev_labels = newsgroups_test.data[:num_test/2], newsgroups_test.target[:num_test/2]\n",
    "train_data, train_labels = newsgroups_train.data, newsgroups_train.target\n",
    "\n",
    "print 'training label shape:', train_labels.shape\n",
    "print 'test label shape:', test_labels.shape\n",
    "print 'dev label shape:', dev_labels.shape\n",
    "print 'labels names:', newsgroups_train.target_names"
   ]
  },
  {
   "cell_type": "markdown",
   "metadata": {},
   "source": [
    "(1) For each of the first 5 training examples, print the text of the message along with the label.\n",
    "\n",
    "[2 pts]"
   ]
  },
  {
   "cell_type": "code",
   "execution_count": null,
   "metadata": {
    "collapsed": false
   },
   "outputs": [],
   "source": [
    "def P1(num_examples=5):\n",
    "### STUDENT START ###\n",
    "    for i in range(num_examples):\n",
    "        print 'Label' + str(i) + ':', train_labels[i], \n",
    "        print 'Data' + str(i) + ':' ,train_data[i]\n",
    "\n",
    "### STUDENT END ###\n",
    "P1(5)"
   ]
  },
  {
   "cell_type": "markdown",
   "metadata": {},
   "source": [
    "(2) Use CountVectorizer to turn the raw training text into feature vectors. You should use the fit_transform function, which makes 2 passes through the data: first it computes the vocabulary (\"fit\"), second it converts the raw text into feature vectors using the vocabulary (\"transform\").\n",
    "\n",
    "The vectorizer has a lot of options. To get familiar with some of them, write code to answer these questions:\n",
    "\n",
    "a. The output of the transform (also of fit_transform) is a sparse matrix: http://docs.scipy.org/doc/scipy-0.14.0/reference/generated/scipy.sparse.csr_matrix.html. What is the size of the vocabulary? What is the average number of non-zero features per example? What fraction of the entries in the matrix are non-zero? Hint: use \"nnz\" and \"shape\" attributes.\n",
    "\n",
    "b. What are the 0th and last feature strings (in alphabetical order)? Hint: use the vectorizer's get_feature_names function.\n",
    "\n",
    "c. Specify your own vocabulary with 4 words: [\"atheism\", \"graphics\", \"space\", \"religion\"]. Confirm the training vectors are appropriately shaped. Now what's the average number of non-zero features per example?\n",
    "\n",
    "d. Instead of extracting unigram word features, use \"analyzer\" and \"ngram_range\" to extract bigram and trigram character features. What size vocabulary does this yield?\n",
    "\n",
    "e. Use the \"min_df\" argument to prune words that appear in fewer than 10 documents. What size vocabulary does this yield?\n",
    "\n",
    "f. Using the standard CountVectorizer, what fraction of the words in the dev data are missing from the vocabulary? Hint: build a vocabulary for both train and dev and look at the size of the difference.\n",
    "\n",
    "[6 pts]"
   ]
  },
  {
   "cell_type": "code",
   "execution_count": 16,
   "metadata": {
    "collapsed": false
   },
   "outputs": [
    {
     "name": "stdout",
     "output_type": "stream",
     "text": [
      "Shape of vector (2034, 26879)\n",
      "Avg number of Non zero features:  96.7059980334\n",
      "Fraction of non zero:  0.00359782722696\n",
      "First Feature String:  00\n",
      "Last Feature String:  zyxel\n",
      "Shape with custom vocabulary:  (2034, 4)\n",
      "Avg number of Non zero features with custom vocabulary:  0.268436578171\n",
      "Size of Vocabulary for bigram data: 194891\n",
      "Size of Vocabulary for trigram data: 315692\n",
      "Size of vocab with min_df=10:  3064\n",
      "Size of vocab with dev data:  16246\n",
      "Number of words missing:  10633\n"
     ]
    }
   ],
   "source": [
    "def P2():\n",
    "### STUDENT START ###\n",
    "    \n",
    "    # Solution to Part A\n",
    "    countVectorizer = CountVectorizer()\n",
    "    train_counts_default = countVectorizer.fit_transform(train_data)\n",
    "    print 'Shape of vector', train_counts_default.shape\n",
    "    print 'Avg number of Non zero features: ', float(train_counts_default.nnz)/2034.0\n",
    "    print 'Fraction of non zero: ', float(train_counts_default.nnz)/(26879.0*2034)\n",
    "    \n",
    "    #Solution to Part B\n",
    "    print 'First Feature String: ',countVectorizer.get_feature_names()[0]\n",
    "    print 'Last Feature String: ', countVectorizer.get_feature_names()[26878]\n",
    "    \n",
    "    #Solution to part C\n",
    "    countVectorizer2 = CountVectorizer(vocabulary=[\"atheism\", \"graphics\", \"space\", \"religion\"])\n",
    "    #countVectorizer.vocabulary_ = [\"atheism\", \"graphics\", \"space\", \"religion\"]\n",
    "    train_counts_custom_vocab = countVectorizer2.transform(train_data)\n",
    "    print 'Shape with custom vocabulary: ', train_counts_custom_vocab.shape\n",
    "    print 'Avg number of Non zero features with custom vocabulary: ',float(train_counts_custom_vocab.nnz)/2034.0\n",
    "\n",
    "    #Solution to part D\n",
    "    countVectorizer3 = CountVectorizer(analyzer='word', ngram_range=(2,2))\n",
    "    train_counts_bigram = countVectorizer3.fit_transform(train_data)\n",
    "    print 'Size of Vocabulary for bigram data:' , len(countVectorizer3.vocabulary_)\n",
    "    \n",
    "    countVectorizer4 = CountVectorizer(analyzer='word', ngram_range=(3,3))\n",
    "    train_counts_trigram = countVectorizer4.fit_transform(train_data)\n",
    "    print 'Size of Vocabulary for trigram data:' , len(countVectorizer4.vocabulary_)\n",
    "    \n",
    "    #Solution to part E\n",
    "    countVectorizer5 = CountVectorizer(min_df=10)\n",
    "    train_counts_min10 = countVectorizer5.fit_transform(train_data)\n",
    "    print 'Size of vocab with min_df=10: ', len(countVectorizer5.vocabulary_)\n",
    "    \n",
    "    #Solution to Part F\n",
    "    countVectorizer6 = CountVectorizer()\n",
    "    train_counts_dev = countVectorizer6.fit_transform(dev_data)\n",
    "    print 'Size of vocab with dev data: ', len(countVectorizer6.vocabulary_)\n",
    "    print 'Number of words missing: ', len(countVectorizer.vocabulary_)-len(countVectorizer6.vocabulary_)\n",
    "    \n",
    "### STUDENT END ###\n",
    "\n",
    "P2()"
   ]
  },
  {
   "cell_type": "markdown",
   "metadata": {},
   "source": [
    "(3) Use the default CountVectorizer options and report the f1 score (use metrics.f1_score) for a k nearest neighbors classifier; find the optimal value for k. Also fit a Multinomial Naive Bayes model and find the optimal value for alpha. Finally, fit a logistic regression model and find the optimal value for the regularization strength C using l2 regularization. A few questions:\n",
    "\n",
    "a. Why doesn't nearest neighbors work well for this problem?\n",
    "\n",
    "b. Any ideas why logistic regression doesn't work as well as Naive Bayes?\n",
    "\n",
    "c. Logistic regression estimates a weight vector for each class, which you can access with the coef\\_ attribute. Output the sum of the squared weight values for each class for each setting of the C parameter. Briefly explain the relationship between the sum and the value of C.\n",
    "\n",
    "[4 pts]"
   ]
  },
  {
   "cell_type": "code",
   "execution_count": 42,
   "metadata": {
    "collapsed": false
   },
   "outputs": [
    {
     "name": "stdout",
     "output_type": "stream",
     "text": [
      "The best k value is:  {'n_neighbors': 96}\n",
      "The best alpha value is:  {'alpha': 0.001}\n",
      "0.001\n",
      "[  1.39200027e-04   2.68304316e-04   1.74368725e-06 ...,   2.03969381e-07\n",
      "   8.15877526e-07   5.92265341e-07]\n",
      "<type 'numpy.ndarray'>\n",
      "0.1\n",
      "[  1.05552109e-02   6.88961312e-03   9.01694777e-05 ...,   2.23903943e-06\n",
      "   8.95615771e-06   1.13107261e-04]\n",
      "<type 'numpy.ndarray'>\n",
      "0.5\n",
      "[  3.39302823e-02   1.89650590e-02   7.94883799e-05 ...,   2.49287477e-06\n",
      "   9.97149909e-06   3.19518231e-04]\n",
      "<type 'numpy.ndarray'>\n",
      "0.55\n",
      "[  3.58204698e-02   2.00150109e-02   8.01261327e-05 ...,   2.50317946e-06\n",
      "   1.00127178e-05   3.39720664e-04]\n",
      "<type 'numpy.ndarray'>\n",
      "0.9\n",
      "[  4.67498671e-02   2.60492587e-02   9.17166958e-05 ...,   2.54521393e-06\n",
      "   1.01808557e-05   4.49402671e-04]\n",
      "<type 'numpy.ndarray'>\n"
     ]
    }
   ],
   "source": [
    "def P3():\n",
    "### STUDENT START ###\n",
    "    countVectorizer_p3 = CountVectorizer()\n",
    "    train_counts_default_p3 = countVectorizer_p3.fit_transform(train_data)\n",
    "    #Creating Classifier\n",
    "    knn_clf_p3 = KNeighborsClassifier()\n",
    "    \n",
    "    knn_params = {'n_neighbors':[1,5,10,25,75, 90,95,96,97,100]}\n",
    "    gsv_knn = GridSearchCV(knn_clf_p3,knn_params,scoring='f1_weighted')\n",
    "    gsv_knn.fit(train_counts_default_p3,train_labels)\n",
    "    print \"The best k value is: \", gsv_knn.best_params_\n",
    "    \n",
    "    \n",
    "    mnb_clf_p3 = MultinomialNB()\n",
    "    mnb_params = {'alpha':[0.000000000000001,0.00000000000001,0.0000000000001,0.000000000001,0.00000000001, 0.0000000001,0.0000001,0.00001,0.001,0.1,1,0]}\n",
    "    gsv_mnb = GridSearchCV(mnb_clf_p3,mnb_params,scoring='f1_weighted')\n",
    "    gsv_mnb.fit(train_counts_default_p3,train_labels)\n",
    "    print \"The best alpha value is: \", gsv_mnb.best_params_\n",
    "\n",
    "    \n",
    "    lr_params = [0.001,0.1,0.5,0.55,0.9]\n",
    "    for c in lr_params:\n",
    "        print c\n",
    "        lr_clf_p3 = LogisticRegression(C=c) \n",
    "        model_p3 = lr_clf_p3.fit(train_counts_default_p3,train_labels)\n",
    "        print sum(model_p3.coef_**2)\n",
    "        \n",
    "    ### STUDENT END ###\n",
    "P3()"
   ]
  },
  {
   "cell_type": "markdown",
   "metadata": {},
   "source": [
    "ANSWER:"
   ]
  },
  {
   "cell_type": "markdown",
   "metadata": {},
   "source": [
    "(4) Train a logistic regression model. Find the 5 features with the largest weights for each label -- 20 features in total. Create a table with 20 rows and 4 columns that shows the weight for each of these features for each of the labels. Create the table again with bigram features. Any surprising features in this table?\n",
    "\n",
    "[5 pts]"
   ]
  },
  {
   "cell_type": "code",
   "execution_count": 36,
   "metadata": {
    "collapsed": false
   },
   "outputs": [
    {
     "name": "stdout",
     "output_type": "stream",
     "text": [
      "Score: 0.71449704142\n",
      "Label: 0\n",
      "[ 7841  3866 20430  4784  3870]\n",
      "Label: 1\n",
      "[ 6555  1145 10376 12769 11552]\n",
      "Label: 2\n",
      "[22570 14540 16697 17597 22567]\n",
      "Label: 3\n",
      "[17609 10234  4743  5901  5904]\n"
     ]
    }
   ],
   "source": [
    "def P4():\n",
    "### STUDENT START ###\n",
    "    countVectorizer_p4 = CountVectorizer()\n",
    "    train_counts_default_p4 = countVectorizer_p4.fit_transform(train_data)\n",
    "    #print train_counts_default_p4[10,24380]\n",
    "    #print countVectorizer_p4.vocabulary_\n",
    "    \n",
    "    lr_clf_p4 = LogisticRegression(C=0.5,)\n",
    "    lr_clf_p4 =  lr_clf_p4.fit(train_counts_default_p4, train_labels)\n",
    "    dev_counts_default_p4 = countVectorizer_p4.transform(dev_data)\n",
    "    print 'Score:',lr_clf_p4.score(dev_counts_default_p4,dev_labels)\n",
    "    model_coef = lr_clf_p4.coef_\n",
    "    model_coef_sorted = np.argsort(model_coef, axis=1)\n",
    "    #print model_coef_sorted.shape\n",
    "    for row in range(4):\n",
    "        print 'Label:', row\n",
    "        temp_model = model_coef_sorted[row,-5:]\n",
    "        print temp_model\n",
    "        #for max_point in temp_model:\n",
    "            #print train_counts_default_p4[row,max_point]\n",
    "    #print model_coef_sorted[1,-5:]\n",
    "    #print model_coef_sorted[2,-5:]\n",
    "    #print model_coef_sorted[3,-5:]\n",
    "    #for row in range(4):\n",
    "        #for column in range(model_coef_sorted[0].size):\n",
    "            #print model_coef_sorted[row,column]\n",
    "### STUDENT END ###\n",
    "P4()"
   ]
  },
  {
   "cell_type": "markdown",
   "metadata": {},
   "source": [
    "ANSWER:"
   ]
  },
  {
   "cell_type": "markdown",
   "metadata": {},
   "source": [
    "(5) Try to improve the logistic regression classifier by passing a custom preprocessor to CountVectorizer. The preprocessing function runs on the raw text, before it is split into words by the tokenizer. Your preprocessor should try to normalize the input in various ways to improve generalization. For example, try lowercasing everything, replacing sequences of numbers with a single token, removing various other non-letter characters, and shortening long words. If you're not already familiar with regular expressions for manipulating strings, see https://docs.python.org/2/library/re.html, and re.sub() in particular. With your new preprocessor, how much did you reduce the size of the dictionary?\n",
    "\n",
    "For reference, I was able to improve dev F1 by 2 points.\n",
    "\n",
    "[4 pts]"
   ]
  },
  {
   "cell_type": "code",
   "execution_count": null,
   "metadata": {
    "collapsed": false
   },
   "outputs": [],
   "source": [
    "def empty_preprocessor(s):\n",
    "    return s\n",
    "\n",
    "def better_preprocessor(s):\n",
    "### STUDENT START ###\n",
    "    s= s.lower()\n",
    "    s=remove_non_alpha_numeric(s)\n",
    "    #s=remove_number(s)\n",
    "    return s\n",
    "\n",
    "def remove_number(s):\n",
    "    s=re.sub('\\s(\\d)+\\s',' ZZ ',s)\n",
    "    return s\n",
    "\n",
    "def remove_non_alpha_numeric(s):\n",
    "    s=re.sub('([^\\s\\w]|_)+','',s)\n",
    "    #s=re.search('(\\w+|\\s)',s).group(1)\n",
    "    return s\n",
    "\n",
    "print train_data[0]\n",
    "print better_preprocessor(str(train_data[0]))\n",
    "#print better_preprocessor(' 1234 4rf 1231 ')\n",
    "### STUDENT END ###\n",
    "\n",
    "def P5():\n",
    "### STUDENT START ###\n",
    "    i = 0\n",
    "    countVectorizer_p5 = CountVectorizer(preprocessor=better_preprocessor)\n",
    "    train_counts_default_p5 = countVectorizer_p5.fit_transform(train_data)\n",
    "    \n",
    "    #prep = countVectorizer_p5.build_preprocessor()\n",
    "    #print str(train_data[0])\n",
    "    #print prep(str(train_data[0]))\n",
    "    #print better_preprocessor(str(train_data[0]))\n",
    "\n",
    "    print len(countVectorizer_p5.vocabulary_)\n",
    "    #print sorted(countVectorizer_p5.vocabulary_)\n",
    "    dev_counts_default_p5 = countVectorizer_p5.transform(dev_data)\n",
    "    \n",
    "    lr_clf_p5 = LogisticRegression(C=0.5)\n",
    "    lr_clf_p5 = lr_clf_p5.fit(train_counts_default_p5,train_labels)\n",
    "    print 'Score:', lr_clf_p5.score(dev_counts_default_p5,dev_labels)\n",
    "    \n",
    "    \n",
    "    \n",
    "### STUDENT END ###\n",
    "#P5()"
   ]
  },
  {
   "cell_type": "markdown",
   "metadata": {},
   "source": [
    "(6) The idea of regularization is to avoid learning very large weights (which are likely to fit the training data, but not generalize well) by adding a penalty to the total size of the learned weights. That is, logistic regression seeks the set of weights that minimizes errors in the training data AND has a small size. The default regularization, L2, computes this size as the sum of the squared weights (see P3, above). L1 regularization computes this size as the sum of the absolute values of the weights. The result is that whereas L2 regularization makes all the weights relatively small, L1 regularization drives lots of the weights to 0, effectively removing unimportant features.\n",
    "\n",
    "Train a logistic regression model using a \"l1\" penalty. Output the number of learned weights that are not equal to zero. How does this compare to the number of non-zero weights you get with \"l2\"? Now, reduce the size of the vocabulary by keeping only those features that have at least one non-zero weight and retrain a model using \"l2\".\n",
    "\n",
    "Make a plot showing accuracy of the re-trained model vs. the vocabulary size you get when pruning unused features by adjusting the C parameter.\n",
    "\n",
    "Note: The gradient descent code that trains the logistic regression model sometimes has trouble converging with extreme settings of the C parameter. Relax the convergence criteria by setting tol=.01 (the default is .0001).\n",
    "\n",
    "[4 pts]"
   ]
  },
  {
   "cell_type": "code",
   "execution_count": null,
   "metadata": {
    "collapsed": false
   },
   "outputs": [],
   "source": [
    "def P6():\n",
    "    # Keep this random seed here to make comparison easier.\n",
    "    np.random.seed(0)\n",
    "\n",
    "    ### STUDENT START ###\n",
    "\n",
    "    \n",
    "\n",
    "    ### STUDENT END ###\n",
    "P6()"
   ]
  },
  {
   "cell_type": "markdown",
   "metadata": {},
   "source": [
    "(7) Use the TfidfVectorizer -- how is this different from the CountVectorizer? Train a logistic regression model with C=100.\n",
    "\n",
    "Make predictions on the dev data and show the top 3 documents where the ratio R is largest, where R is:\n",
    "\n",
    "maximum predicted probability / predicted probability of the correct label\n",
    "\n",
    "What kinds of mistakes is the model making? Suggest a way to address one particular issue that you see.\n",
    "\n",
    "[4 pts]"
   ]
  },
  {
   "cell_type": "code",
   "execution_count": null,
   "metadata": {
    "collapsed": false
   },
   "outputs": [],
   "source": [
    "#def P7():\n",
    "    ### STUDENT START ###\n",
    "\n",
    "\n",
    "\n",
    "    ### STUDENT END ###\n",
    "#P7()"
   ]
  },
  {
   "cell_type": "markdown",
   "metadata": {},
   "source": [
    "ANSWER:"
   ]
  },
  {
   "cell_type": "markdown",
   "metadata": {},
   "source": [
    "(8) EXTRA CREDIT\n",
    "\n",
    "Try implementing one of your ideas based on your error analysis. Use logistic regression as your underlying model.\n",
    "\n",
    "- [1 pt] for a reasonable attempt\n",
    "- [2 pts] for improved performance"
   ]
  }
 ],
 "metadata": {
  "kernelspec": {
   "display_name": "Python 2",
   "language": "python",
   "name": "python2"
  },
  "language_info": {
   "codemirror_mode": {
    "name": "ipython",
    "version": 2
   },
   "file_extension": ".py",
   "mimetype": "text/x-python",
   "name": "python",
   "nbconvert_exporter": "python",
   "pygments_lexer": "ipython2",
   "version": "2.7.11"
  }
 },
 "nbformat": 4,
 "nbformat_minor": 0
}
