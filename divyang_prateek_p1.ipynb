{
 "cells": [
  {
   "cell_type": "markdown",
   "metadata": {},
   "source": [
    "# Project 1: Digit Classification with KNN and Naive Bayes"
   ]
  },
  {
   "cell_type": "markdown",
   "metadata": {},
   "source": [
    "In this project, you'll implement your own image recognition system for classifying digits. Read through the code and the instructions carefully and add your own code where indicated. Each problem can be addressed succinctly with the included packages -- please don't add any more. Grading will be based on writing clean, commented code, along with a few short answers.\n",
    "\n",
    "As always, you're welcome to work on the project in groups and discuss ideas on the course wall, but <b> please prepare your own write-up (with your own code). </b>\n",
    "\n",
    "If you're interested, check out these links related to digit recognition:\n",
    "\n",
    "Yann Lecun's MNIST benchmarks: http://yann.lecun.com/exdb/mnist/\n",
    "\n",
    "Stanford Streetview research and data: http://ufldl.stanford.edu/housenumbers/"
   ]
  },
  {
   "cell_type": "code",
   "execution_count": 38,
   "metadata": {
    "collapsed": false
   },
   "outputs": [],
   "source": [
    "# This tells matplotlib not to try opening a new window for each plot.\n",
    "%matplotlib inline\n",
    "\n",
    "# Import a bunch of libraries.\n",
    "import time\n",
    "import numpy as np\n",
    "import matplotlib.pyplot as plt\n",
    "from matplotlib.ticker import MultipleLocator\n",
    "from sklearn.pipeline import Pipeline\n",
    "from sklearn.datasets import fetch_mldata\n",
    "from sklearn.neighbors import KNeighborsClassifier\n",
    "from sklearn.metrics import confusion_matrix\n",
    "from sklearn.linear_model import LinearRegression\n",
    "from sklearn.naive_bayes import BernoulliNB\n",
    "from sklearn.naive_bayes import MultinomialNB\n",
    "from sklearn.naive_bayes import GaussianNB\n",
    "from sklearn.grid_search import GridSearchCV\n",
    "from sklearn.metrics import classification_report\n",
    "\n",
    "# Set the randomizer seed so results are the same each time.\n",
    "np.random.seed(0)"
   ]
  },
  {
   "cell_type": "markdown",
   "metadata": {},
   "source": [
    "Load the data. Notice that we are splitting the data into training, development, and test. We also have a small subset of the training data called mini_train_data and mini_train_labels that you should use in all the experiments below, unless otherwise noted."
   ]
  },
  {
   "cell_type": "code",
   "execution_count": 39,
   "metadata": {
    "collapsed": false
   },
   "outputs": [
    {
     "name": "stdout",
     "output_type": "stream",
     "text": [
      "data shape:  (70000, 784)\n",
      "label shape: (70000,)\n"
     ]
    }
   ],
   "source": [
    "# Load the digit data either from mldata.org, or once downloaded to data_home, from disk. The data is about 53MB so this cell\n",
    "# should take a while the first time your run it.\n",
    "mnist = fetch_mldata('MNIST original', data_home='~/datasets/mnist')\n",
    "X, Y = mnist.data, mnist.target\n",
    "\n",
    "# Rescale grayscale values to [0,1].\n",
    "X = X / 255.0\n",
    "\n",
    "# Shuffle the input: create a random permutation of the integers between 0 and the number of data points and apply this\n",
    "# permutation to X and Y.\n",
    "# NOTE: Each time you run this cell, you'll re-shuffle the data, resulting in a different ordering.\n",
    "shuffle = np.random.permutation(np.arange(X.shape[0]))\n",
    "X, Y = X[shuffle], Y[shuffle]\n",
    "\n",
    "print 'data shape: ', X.shape\n",
    "print 'label shape:', Y.shape\n",
    "\n",
    "# Set some variables to hold test, dev, and training data.\n",
    "test_data, test_labels = X[61000:], Y[61000:]\n",
    "dev_data, dev_labels = X[60000:61000], Y[60000:61000]\n",
    "train_data, train_labels = X[:60000], Y[:60000]\n",
    "mini_train_data, mini_train_labels = X[:1000], Y[:1000]"
   ]
  },
  {
   "cell_type": "code",
   "execution_count": 40,
   "metadata": {
    "collapsed": false
   },
   "outputs": [
    {
     "name": "stdout",
     "output_type": "stream",
     "text": [
      "[ 6.  0.  9.  3.  5.  1.  3.  3.  0.  7.]\n",
      "<type 'numpy.ndarray'>\n",
      "9000\n",
      "1000\n"
     ]
    }
   ],
   "source": [
    "print test_labels[0:10]\n",
    "print type(test_labels)\n",
    "print test_labels.size\n",
    "print mini_train_labels.size"
   ]
  },
  {
   "cell_type": "markdown",
   "metadata": {},
   "source": [
    "(1) Create a 10x10 grid to visualize 10 examples of each digit. Python hints:\n",
    "\n",
    "- plt.rc() for setting the colormap, for example to black and white\n",
    "- plt.subplot() for creating subplots\n",
    "- plt.imshow() for rendering a matrix\n",
    "- np.array.reshape() for reshaping a 1D feature vector into a 2D matrix (for rendering)"
   ]
  },
  {
   "cell_type": "code",
   "execution_count": null,
   "metadata": {
    "collapsed": false
   },
   "outputs": [],
   "source": [
    "def P1(num_examples=10):\n",
    "\n",
    "### STUDENT START ###\n",
    "    count_list = [0]*10\n",
    "    complete = False\n",
    "    labels = test_labels.astype(int)\n",
    "    for i in range(test_labels.size):\n",
    "        if(not complete):\n",
    "            #print 'i ', i, 'Complete: ', complete\n",
    "            value = labels[i]\n",
    "            if(count_list[value]<num_examples ):\n",
    "                count_list[value] +=1\n",
    "                #plt.subplots(10,10)\n",
    "                #plt.imshow(np.ndarray.reshape(test_data[value],[28,28],order='C'))\n",
    "            complete = count_list[0] == num_examples and count_list[1] == num_examples and count_list[2] == num_examples and count_list[3] == num_examples and count_list[4] == num_examples and count_list[5] == num_examples and count_list[6] == num_examples and count_list[7] == num_examples and count_list[8] == num_examples and count_list[9] == num_examples\n",
    "        else:\n",
    "            break\n",
    "    print count_list        \n",
    "#     digits = list(range(10))\n",
    "#     examples = np.empty([10,10])\n",
    "#     pick_count = num_examples*10\n",
    "#     index =0\n",
    "#     print examples.shape\n",
    "#     while (pick_count>0):\n",
    "#         value = test_labels[index]\n",
    "#         print index\n",
    "#         print value\n",
    "#         if(np.ndarray.size(examples[value])<num_examples):\n",
    "#             #print value\n",
    "#             pick_count-=1\n",
    "#         index+=1\n",
    "#     print 'end while loop'\n",
    "    #plt.subplots(10,10)\n",
    "    #plt.imshow(np.ndarray.reshape(test_data[0],[28,28],order='C'))\n",
    "    #plt.plot(np.array.reshape(test_data(0,)))\n",
    "\n",
    "### STUDENT END ###\n",
    "\n",
    "P1(10)"
   ]
  },
  {
   "cell_type": "markdown",
   "metadata": {},
   "source": [
    "(2) Evaluate a K-Nearest-Neighbors model with k = [1,3,5,7,9] using the mini training set. Report accuracy on the dev set. For k=1, show precision, recall, and F1 for each label. Which is the most difficult digit?\n",
    "\n",
    "- KNeighborsClassifier() for fitting and predicting\n",
    "- classification_report() for producing precision, recall, F1 results"
   ]
  },
  {
   "cell_type": "code",
   "execution_count": null,
   "metadata": {
    "collapsed": false
   },
   "outputs": [],
   "source": [
    "def P2(k_values):\n",
    "\n",
    "### STUDENT START ###\n",
    "    print mini_train_data.size \n",
    "    for i in k_values:\n",
    "        model = KNeighborsClassifier(n_neighbors=i)\n",
    "        model.fit(mini_train_data,mini_train_labels)\n",
    "        predicted_labels = model.predict(dev_data)\n",
    "        wrong_prediction= (predicted_labels != dev_labels)\n",
    "        print(classification_report(predicted_labels,dev_labels))\n",
    "\n",
    "### STUDENT END ###\n",
    "\n",
    "k_values = [1, 3, 5, 7, 9]\n",
    "P2(k_values)"
   ]
  },
  {
   "cell_type": "markdown",
   "metadata": {},
   "source": [
    "ANSWER: 2 and 5 are the two digits with consistently low lowest support. So they would the be the digts most difficult to predict."
   ]
  },
  {
   "cell_type": "markdown",
   "metadata": {},
   "source": [
    "(3) Using k=1, report dev set accuracy for the training set sizes below. Also, measure the amount of time needed for prediction with each training size.\n",
    "\n",
    "- time.time() gives a wall clock value you can use for timing operations"
   ]
  },
  {
   "cell_type": "code",
   "execution_count": null,
   "metadata": {
    "collapsed": false
   },
   "outputs": [],
   "source": [
    "def P3(train_sizes, accuracies):\n",
    "\n",
    "### STUDENT START ###\n",
    "    k = 1\n",
    "    for i in train_sizes:\n",
    "        print 'Training Set Size: ',i\n",
    "        training_subset_data = train_data[0:i]\n",
    "        training_subset_label = train_labels[0:i]\n",
    "        model = KNeighborsClassifier(k)\n",
    "        model.fit(training_subset_data,training_subset_label)\n",
    "        start = time.time()\n",
    "        predicted_labels = model.predict(dev_data)\n",
    "        finish  = time.time()\n",
    "        wrong_prediction = (predicted_labels != dev_labels)\n",
    "        accuracies.append(np.divide(np.sum(wrong_prediction,dtype=np.float32),predicted_labels.size))\n",
    "        print 'Time Taken for prediction with ', i , ' samples is :' ,finish-start\n",
    "    print 'Accuracies ', accuracies\n",
    "### STUDENT END ###\n",
    "\n",
    "train_sizes = [100, 200, 400, 800, 1600, 3200, 6400, 12800, 25000]\n",
    "accuracies = []\n",
    "P3(train_sizes, accuracies)"
   ]
  },
  {
   "cell_type": "markdown",
   "metadata": {},
   "source": [
    "(4) Fit a regression model that predicts accuracy from training size. What does it predict for n=60000? What's wrong with using regression here? Can you apply a transformation that makes the predictions more reasonable?\n",
    "\n",
    "- Remember that the sklearn fit() functions take an input matrix X and output vector Y. So each input example in X is a vector, even if it contains only a single value."
   ]
  },
  {
   "cell_type": "code",
   "execution_count": null,
   "metadata": {
    "collapsed": false
   },
   "outputs": [],
   "source": [
    "def P4():\n",
    "\n",
    "### STUDENT START ###\n",
    "        #y = LinearRegression.fit(np.array(train_sizes), accuracies)\n",
    "\n",
    "### STUDENT END ###\n",
    "\n",
    "P4()"
   ]
  },
  {
   "cell_type": "markdown",
   "metadata": {},
   "source": [
    "ANSWER:"
   ]
  },
  {
   "cell_type": "markdown",
   "metadata": {},
   "source": [
    "Fit a 1-NN and output a confusion matrix for the dev data. Use the confusion matrix to identify the most confused pair of digits, and display a few example mistakes.\n",
    "\n",
    "- confusion_matrix() produces a confusion matrix"
   ]
  },
  {
   "cell_type": "code",
   "execution_count": null,
   "metadata": {
    "collapsed": false
   },
   "outputs": [],
   "source": [
    "def P5():\n",
    "\n",
    "### STUDENT START ###\n",
    "    model = KNeighborsClassifier(1)\n",
    "    print ('Starting to train model')\n",
    "    model.fit(train_data,train_labels)\n",
    "    print ('Completed training. Starting prediction')\n",
    "    predicted_labels=model.predict(dev_data)\n",
    "    print(classification_report(predicted_labels,dev_labels))\n",
    "    print ('Computing Confusion Matrix')\n",
    "    #print(confusion_matrix(dev_labels,predicted_labels))\n",
    "    \n",
    "### STUDENT END ###\n",
    "\n",
    "P5()"
   ]
  },
  {
   "cell_type": "markdown",
   "metadata": {},
   "source": [
    "(6) A common image processing technique is to smooth an image by blurring. The idea is that the value of a particular pixel is estimated as the weighted combination of the original value and the values around it. Typically, the blurring is Gaussian -- that is, the weight of a pixel's influence is determined by a Gaussian function over the distance to the relevant pixel.\n",
    "\n",
    "Implement a simplified Gaussian blur by just using the 8 neighboring pixels: the smoothed value of a pixel is a weighted combination of the original value and the 8 neighboring values. Try applying your blur filter in 3 ways:\n",
    "- preprocess the training data but not the dev data\n",
    "- preprocess the dev data but not the training data\n",
    "- preprocess both training and dev data\n",
    "\n",
    "Note that there are Guassian blur filters available, for example in scipy.ndimage.filters. You're welcome to experiment with those, but you are likely to get the best results with the simplified version I described above."
   ]
  },
  {
   "cell_type": "code",
   "execution_count": null,
   "metadata": {
    "collapsed": false
   },
   "outputs": [],
   "source": [
    "def P6():\n",
    "    \n",
    "### STUDENT START ###\n",
    "    #for i in range(train_data.size):\n",
    "        print 'Bluring Data'\n",
    "        training_data_blur = process_data(train_data)\n",
    "        dev_data_blur  = process_data(dev_data)\n",
    "        \n",
    "        print 'Fitting First Scenario - Blurred Training Data'\n",
    "        model1 = KNeighborsClassifier(1)\n",
    "        model1.fit(training_data_blur, train_labels)\n",
    "        model1_predicted_labels = model1.predict(dev_data)\n",
    "        print(classification_report(model1_predicted_labels,dev_labels))\n",
    "        \n",
    "        \n",
    "        print 'Fitting Second Scenario - Blurred Dev Data'\n",
    "        model2 = KNeighborsClassifier(1)\n",
    "        model2.fit(train_data, train_labels)\n",
    "        model2_predicted_labels = model2.predict(dev_data_blur)\n",
    "        print(classification_report(model2_predicted_labels,dev_labels))\n",
    "        \n",
    "        \n",
    "        print 'Fitting Third Scenario - Blurred Training and Dev Data'\n",
    "        model3 = KNeighborsClassifier(1)\n",
    "        model3.fit(training_data_blur, train_labels)\n",
    "        model3_predicted_labels = model3.predict(dev_data_blur)\n",
    "        print(classification_report(model3_predicted_labels,dev_labels))\n",
    "\n",
    "def process_data(raw_data):\n",
    "    formatted_data = np.empty_like(raw_data)\n",
    "    for i in range(len(raw_data)):\n",
    "        formatted_data[i]=smooth(raw_data[i])\n",
    "    return formatted_data\n",
    "        \n",
    "def smooth(data):\n",
    "    data_formatted = []\n",
    "    for i in range(28):\n",
    "        for j in range(28):\n",
    "            if i == 0:\n",
    "                if j == 0:\n",
    "                    data_formatted.append(np.divide(np.sum([get_value(i,j,data),get_value(i+1,j,data),get_value(i+1,j+1,data),get_value(i,j+1,data)]),4))\n",
    "                elif j == 27:\n",
    "                    data_formatted.append(np.divide(np.sum([get_value(i,j,data),get_value(i,j-1,data),get_value(i+1,j-1,data),get_value(i+1,j,data)]),4))\n",
    "                else:\n",
    "                    data_formatted.append(np.divide(np.sum([get_value(i,j,data),get_value(i,j-1,data),get_value(i+1,j-1,data),get_value(i+1,j,data),get_value(i+1,j+1,data),get_value(i,j+1,data)]),6))\n",
    "            elif i == 27:\n",
    "                if j == 0:\n",
    "                    data_formatted.append(np.divide(np.sum([get_value(i,j,data),get_value(i-1,j,data),get_value(i-1,j-1,data),get_value(i,j+1,data)]),4))\n",
    "                elif j == 27:\n",
    "                    data_formatted.append(np.divide(np.sum([get_value(i,j,data),get_value(i-1,j,data),get_value(i-1,j-1,data),get_value(i-1,j,data)]),4))\n",
    "                else:\n",
    "                    data_formatted.append(np.divide(np.sum([get_value(i,j,data),get_value(i,j-1,data),get_value(i-1,j-1,data),get_value(i-1,j,data),get_value(i-1,j+1,data),get_value(i,j+1,data)]),6))               \n",
    "            else:\n",
    "                if j == 0:\n",
    "                    data_formatted.append(np.divide(np.sum([get_value(i,j,data),get_value(i+1,j,data),get_value(i+1,j+1,data),get_value(i,j+1,data),get_value(i-1,j+1,data),get_value(i-1,j,data)]),6))\n",
    "                elif j == 27:\n",
    "                    data_formatted.append(np.divide(np.sum([get_value(i,j,data),get_value(i,j-1,data),get_value(i+1,j-1,data),get_value(i+1,j,data),get_value(i-1,j,data),get_value(i-1,j-1,data)]),6))\n",
    "                else:\n",
    "                    data_formatted.append(np.divide(np.sum([get_value(i,j,data),get_value(i,j-1,data),get_value(i+1,j-1,data),get_value(i+1,j,data),get_value(i+1,j+1,data),get_value(i,j+1,data),get_value(i-1,j+1,data),get_value(i-1,j,data),get_value(i-1,j-1,data)]),9))\n",
    "    return data_formatted\n",
    "#This method computes what position in a vector corresponds to a 2d matrix\n",
    "def get_value(row,column,data):\n",
    "    max_row, max_column = 28, 28\n",
    "    return data[((row % max_row) + (column % max_column)) + (row * (max_column-1))]\n",
    "        \n",
    "### STUDENT END ###\n",
    "\n",
    "P6()"
   ]
  },
  {
   "cell_type": "markdown",
   "metadata": {},
   "source": [
    "ANSWER:"
   ]
  },
  {
   "cell_type": "markdown",
   "metadata": {},
   "source": [
    "(7) Fit a Naive Bayes classifier and report accuracy on the dev data. Remember that Naive Bayes estimates P(feature|label). While sklearn can handle real-valued features, let's start by mapping the pixel values to either 0 or 1. You can do this as a preprocessing step, or with the binarize argument. With binary-valued features, you can use BernoulliNB. Next try mapping the pixel values to 0, 1, or 2, representing white, grey, or black. This mapping requires MultinomialNB. Does the multi-class version improve the results? Why or why not?"
   ]
  },
  {
   "cell_type": "code",
   "execution_count": 52,
   "metadata": {
    "collapsed": false
   },
   "outputs": [
    {
     "name": "stdout",
     "output_type": "stream",
     "text": [
      "Converting Data to Binomial\n",
      "Prediction with Binomial 0.838222222222\n",
      "Converting Data to Multinomial\n",
      "Prediction with Multinomial 0.115888888889\n"
     ]
    }
   ],
   "source": [
    "def P7():\n",
    "\n",
    "### STUDENT START ###\n",
    "    \n",
    "    # Binarizing Data\n",
    "    print \"Converting Data to Binomial\"\n",
    "    b_train_data = binarize_data(train_data,[0.5])\n",
    "    b_test_data = binarize_data(test_data,[0.5])\n",
    "    \n",
    "    #Bernoulli Classifier\n",
    "    bernoulli_classifier = BernoulliNB(1)\n",
    "    bernoulli_model = bernoulli_classifier.fit(b_train_data,train_labels)\n",
    "    b_prediction = bernoulli_model.score(b_test_data,test_labels )\n",
    "    print 'Prediction with Binomial', b_prediction\n",
    "    \n",
    "    #Converting to Multinomial Variable\n",
    "    print \"Converting Data to Multinomial\"\n",
    "    m_traning_data = multinomialize_data(train_data)\n",
    "    m_test_data = multinomialize_data(test_data)\n",
    "    multinomial_classifier = MultinomialNB(1)\n",
    "    multinomial_data_model = multinomial_classifier.fit(m_traning_data,train_labels)\n",
    "    m_prediction = multinomial_data_model.score(m_test_data,test_labels)\n",
    "    print 'Prediction with Multinomial',m_prediction\n",
    "    \n",
    "def binarize_data(data, thresholds):\n",
    "    # Initialize a new feature array with the same shape as the original data.\n",
    "    binarized_data = np.zeros(data.shape)\n",
    "    \n",
    "    #Apply a threshold  to each feature.\n",
    "    for feature in range(data.shape[1]):\n",
    "        binarized_data[:,feature] = data[:,feature] > thresholds[0]\n",
    "    return binarized_data\n",
    "        \n",
    "def multinomialize_data(data):\n",
    "    mult_data = np.zeros(data.shape)\n",
    "    for point in range(len(data)):\n",
    "        mult_point = np.zeros(data[point].shape)\n",
    "        data_point = data[point]\n",
    "        for feature in range(data_point.size):\n",
    "            if(data_point[feature] >= 0 and data_point[feature] <= 0.33):\n",
    "                mult_point[feature] = 0\n",
    "            elif(data_point[feature] > 0.33  and data_point[feature]<=0.66):\n",
    "                mult_point[feature] = 1\n",
    "            else:\n",
    "                mult_point[feature] = 2\n",
    "    return mult_data\n",
    "\n",
    "\n",
    "### STUDENT END ###\n",
    "\n",
    "P7()"
   ]
  },
  {
   "cell_type": "markdown",
   "metadata": {},
   "source": [
    "No The multinomial does not improve the search."
   ]
  },
  {
   "cell_type": "markdown",
   "metadata": {},
   "source": [
    "(8) Use GridSearchCV to perform a search over values of alpha (the Laplace smoothing parameter) in a Bernoulli NB model. What is the best value for alpha? What is the accuracy when alpha=0? Is this what you'd expect?\n",
    "\n",
    "- Note that GridSearchCV partitions the training data so the results will be a bit different than if you used the dev data for evaluation."
   ]
  },
  {
   "cell_type": "code",
   "execution_count": null,
   "metadata": {
    "collapsed": false
   },
   "outputs": [],
   "source": [
    "def P8(alphas):\n",
    "\n",
    "### STUDENT START ###\n",
    "    b_clf = BernoulliNB()\n",
    "    GridSearchCV(b_clf, )\n",
    "\n",
    "### STUDENT END ###\n",
    "\n",
    "alphas = {'alpha': [0.0, 0.0001, 0.001, 0.01, 0.1, 0.5, 1.0, 2.0, 10.0]}\n",
    "nb = P8(alphas)"
   ]
  },
  {
   "cell_type": "code",
   "execution_count": null,
   "metadata": {
    "collapsed": false
   },
   "outputs": [],
   "source": [
    "#print nb.best_params_"
   ]
  },
  {
   "cell_type": "markdown",
   "metadata": {},
   "source": [
    "ANSWER:"
   ]
  },
  {
   "cell_type": "markdown",
   "metadata": {},
   "source": [
    "(9) Try training a model using GuassianNB, which is intended for real-valued features, and evaluate on the dev data. You'll notice that it doesn't work so well. Try to diagnose the problem. You should be able to find a simple fix that returns the accuracy to around the same rate as BernoulliNB. Explain your solution.\n",
    "\n",
    "Hint: examine the parameters estimated by the fit() method, theta\\_ and sigma\\_."
   ]
  },
  {
   "cell_type": "code",
   "execution_count": 66,
   "metadata": {
    "collapsed": false
   },
   "outputs": [
    {
     "ename": "NameError",
     "evalue": "global name 'mean' is not defined",
     "output_type": "error",
     "traceback": [
      "\u001b[1;31m---------------------------------------------------------------------------\u001b[0m",
      "\u001b[1;31mNameError\u001b[0m                                 Traceback (most recent call last)",
      "\u001b[1;32m<ipython-input-66-389264fc3843>\u001b[0m in \u001b[0;36m<module>\u001b[1;34m()\u001b[0m\n\u001b[0;32m     10\u001b[0m \u001b[1;31m### STUDENT END ###\u001b[0m\u001b[1;33m\u001b[0m\u001b[1;33m\u001b[0m\u001b[0m\n\u001b[0;32m     11\u001b[0m \u001b[1;33m\u001b[0m\u001b[0m\n\u001b[1;32m---> 12\u001b[1;33m \u001b[0mgnb\u001b[0m \u001b[1;33m=\u001b[0m \u001b[0mP9\u001b[0m\u001b[1;33m(\u001b[0m\u001b[1;33m)\u001b[0m\u001b[1;33m\u001b[0m\u001b[0m\n\u001b[0m",
      "\u001b[1;32m<ipython-input-66-389264fc3843>\u001b[0m in \u001b[0;36mP9\u001b[1;34m()\u001b[0m\n\u001b[0;32m      4\u001b[0m     \u001b[0mg_clf\u001b[0m \u001b[1;33m=\u001b[0m \u001b[0mGaussianNB\u001b[0m\u001b[1;33m(\u001b[0m\u001b[1;33m)\u001b[0m\u001b[1;33m\u001b[0m\u001b[0m\n\u001b[0;32m      5\u001b[0m     \u001b[0mg_model\u001b[0m \u001b[1;33m=\u001b[0m \u001b[0mg_clf\u001b[0m\u001b[1;33m.\u001b[0m\u001b[0mfit\u001b[0m\u001b[1;33m(\u001b[0m\u001b[0mtrain_data\u001b[0m\u001b[1;33m,\u001b[0m\u001b[0mtrain_labels\u001b[0m\u001b[1;33m)\u001b[0m\u001b[1;33m\u001b[0m\u001b[0m\n\u001b[1;32m----> 6\u001b[1;33m     \u001b[1;32mprint\u001b[0m \u001b[0mmean\u001b[0m\u001b[1;33m(\u001b[0m\u001b[0mg_clf\u001b[0m\u001b[1;33m.\u001b[0m\u001b[0msigma_\u001b[0m\u001b[1;33m)\u001b[0m\u001b[1;31m#g_clf.theta_\u001b[0m\u001b[1;33m\u001b[0m\u001b[0m\n\u001b[0m\u001b[0;32m      7\u001b[0m     \u001b[0mg_predicted\u001b[0m \u001b[1;33m=\u001b[0m \u001b[0mg_model\u001b[0m\u001b[1;33m.\u001b[0m\u001b[0mscore\u001b[0m\u001b[1;33m(\u001b[0m\u001b[0mdev_data\u001b[0m\u001b[1;33m,\u001b[0m\u001b[0mdev_labels\u001b[0m\u001b[1;33m)\u001b[0m\u001b[1;33m\u001b[0m\u001b[0m\n\u001b[0;32m      8\u001b[0m     \u001b[1;32mprint\u001b[0m \u001b[0mg_predicted\u001b[0m\u001b[1;33m\u001b[0m\u001b[0m\n",
      "\u001b[1;31mNameError\u001b[0m: global name 'mean' is not defined"
     ]
    }
   ],
   "source": [
    "def P9():\n",
    "\n",
    "### STUDENT END ###\n",
    "    g_clf = GaussianNB()\n",
    "    g_model = g_clf.fit(train_data,train_labels)\n",
    "    print mean(g_clf.sigma_)#g_clf.theta_\n",
    "    g_predicted = g_model.score(dev_data,dev_labels)\n",
    "    print g_predicted\n",
    "\n",
    "### STUDENT END ###\n",
    "\n",
    "gnb = P9()"
   ]
  },
  {
   "cell_type": "markdown",
   "metadata": {},
   "source": [
    "ANSWER:"
   ]
  },
  {
   "cell_type": "markdown",
   "metadata": {},
   "source": [
    "(10) Because Naive Bayes is a generative model, we can use the trained model to generate digits. Train a BernoulliNB model and then generate a 10x20 grid with 20 examples of each digit. Because you're using a Bernoulli model, each pixel output will be either 0 or 1. How do the generated digits compare to the training digits?\n",
    "\n",
    "- You can use np.random.rand() to generate random numbers from a uniform distribution\n",
    "- The estimated probability of each pixel is stored in feature\\_log\\_prob\\_. You'll need to use np.exp() to convert a log probability back to a probability."
   ]
  },
  {
   "cell_type": "code",
   "execution_count": null,
   "metadata": {
    "collapsed": false
   },
   "outputs": [],
   "source": [
    "#def P10(num_examples):\n",
    "\n",
    "### STUDENT START ###\n",
    "\n",
    "\n",
    "### STUDENT END ###\n",
    "\n",
    "#P10(20)"
   ]
  },
  {
   "cell_type": "markdown",
   "metadata": {},
   "source": [
    "ANSWER:"
   ]
  },
  {
   "cell_type": "markdown",
   "metadata": {},
   "source": [
    "(11) Remember that a strongly calibrated classifier is rougly 90% accurate when the posterior probability of the predicted class is 0.9. A weakly calibrated classifier is more accurate when the posterior is 90% than when it is 80%. A poorly calibrated classifier has no positive correlation between posterior and accuracy.\n",
    "\n",
    "Train a BernoulliNB model with a reasonable alpha value. For each posterior bucket (think of a bin in a histogram), you want to estimate the classifier's accuracy. So for each prediction, find the bucket the maximum posterior belongs to and update the \"correct\" and \"total\" counters.\n",
    "\n",
    "How would you characterize the calibration for the Naive Bayes model?"
   ]
  },
  {
   "cell_type": "code",
   "execution_count": null,
   "metadata": {
    "collapsed": false
   },
   "outputs": [],
   "source": [
    "#def P11(buckets, correct, total):\n",
    "    \n",
    "### STUDENT START ###\n",
    "\n",
    "\n",
    "                \n",
    "### STUDENT END ###\n",
    "\n",
    "#buckets = [0.5, 0.9, 0.999, 0.99999, 0.9999999, 0.999999999, 0.99999999999, 0.9999999999999, 1.0]\n",
    "#correct = [0 for i in buckets]\n",
    "#total = [0 for i in buckets]\n",
    "\n",
    "#P11(buckets, correct, total)\n",
    "\n",
    "#for i in range(len(buckets)):\n",
    "#    accuracy = 0.0\n",
    "#    if (total[i] > 0): accuracy = correct[i] / total[i]\n",
    "#    print 'p(pred) <= %.13f    total = %3d    accuracy = %.3f' %(buckets[i], total[i], accuracy)"
   ]
  },
  {
   "cell_type": "markdown",
   "metadata": {},
   "source": [
    "ANSWER:"
   ]
  },
  {
   "cell_type": "markdown",
   "metadata": {},
   "source": [
    "(12) EXTRA CREDIT\n",
    "\n",
    "Try designing extra features to see if you can improve the performance of Naive Bayes on the dev set. Here are a few ideas to get you started:\n",
    "- Try summing the pixel values in each row and each column.\n",
    "- Try counting the number of enclosed regions; 8 usually has 2 enclosed regions, 9 usually has 1, and 7 usually has 0.\n",
    "\n",
    "Make sure you comment your code well!"
   ]
  },
  {
   "cell_type": "code",
   "execution_count": null,
   "metadata": {
    "collapsed": false
   },
   "outputs": [],
   "source": [
    "#def P12():\n",
    "\n",
    "### STUDENT START ###\n",
    "\n",
    "\n",
    "### STUDENT END ###\n",
    "\n",
    "#P12()"
   ]
  }
 ],
 "metadata": {
  "kernelspec": {
   "display_name": "Python 2",
   "language": "python",
   "name": "python2"
  },
  "language_info": {
   "codemirror_mode": {
    "name": "ipython",
    "version": 2
   },
   "file_extension": ".py",
   "mimetype": "text/x-python",
   "name": "python",
   "nbconvert_exporter": "python",
   "pygments_lexer": "ipython2",
   "version": "2.7.11"
  }
 },
 "nbformat": 4,
 "nbformat_minor": 0
}
